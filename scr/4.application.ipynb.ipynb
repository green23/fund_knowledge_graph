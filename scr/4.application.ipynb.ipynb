{
 "cells": [
  {
   "cell_type": "markdown",
   "metadata": {},
   "source": [
    "# 金融 证券 图谱搭建"
   ]
  },
  {
   "cell_type": "markdown",
   "metadata": {},
   "source": [
    "## 1. 图数据库设置"
   ]
  },
  {
   "cell_type": "markdown",
   "metadata": {},
   "source": [
    "### 1.1创建索引\n",
    "\n",
    "提高查询效率"
   ]
  },
  {
   "cell_type": "code",
   "execution_count": 26,
   "metadata": {},
   "outputs": [],
   "source": [
    "index_scripts = \"\"\"CREATE INDEX ON :CITY(city);\n",
    "                CREATE INDEX ON :FUND(fund_code);\n",
    "                CREATE INDEX ON :COMPANY(company);\n",
    "                CREATE INDEX ON :FUND_CUSTODIAN(company);\n",
    "                CREATE INDEX ON :FUND_MANAGER(company);\n",
    "                CREATE INDEX ON :LISTED_COMPANY(company);\n",
    "                CREATE INDEX ON :INDUSTRY(industry);\n",
    "                CREATE INDEX ON :MANAGER(manager_id);\n",
    "                CREATE INDEX ON :PROVINCE(province);\n",
    "                CREATE INDEX ON :LISTED_COMPANY(share_code);\n",
    "                \"\"\""
   ]
  },
  {
   "cell_type": "code",
   "execution_count": 27,
   "metadata": {},
   "outputs": [
    {
     "name": "stdout",
     "output_type": "stream",
     "text": [
      "CREATE INDEX ON :CITY(city);\n",
      "CREATE INDEX ON :FUND(fund_code);\n",
      "CREATE INDEX ON :COMPANY(company);\n",
      "CREATE INDEX ON :FUND_CUSTODIAN(company);\n",
      "CREATE INDEX ON :FUND_MANAGER(company);\n",
      "CREATE INDEX ON :LISTED_COMPANY(company);\n",
      "CREATE INDEX ON :INDUSTRY(industry);\n",
      "CREATE INDEX ON :MANAGER(manager_id);\n",
      "CREATE INDEX ON :PROVINCE(province);\n",
      "CREATE INDEX ON :LISTED_COMPANY(share_code);\n"
     ]
    }
   ],
   "source": [
    "for scripts in index_scripts.split('\\n'):\n",
    "    scripts = scripts.strip()\n",
    "    if len(scripts)>5 :\n",
    "        print(scripts)\n",
    "        result = graph.run(scripts)"
   ]
  },
  {
   "cell_type": "markdown",
   "metadata": {},
   "source": [
    "### 1.2. 安装插件"
   ]
  },
  {
   "cell_type": "markdown",
   "metadata": {},
   "source": [
    "主要是 apoc 插件。这里使用的是 `apoc-3.4.0.3-all.jar `"
   ]
  },
  {
   "cell_type": "markdown",
   "metadata": {},
   "source": [
    "## 2. 知识图谱应用"
   ]
  },
  {
   "cell_type": "markdown",
   "metadata": {},
   "source": [
    "下面是应用部分。主要从两个方面展开\n",
    "1. 可视化\n",
    "\n",
    "利用 neo4j 自带的可视化插件进行\n",
    "\n",
    "2. 关联查询\n",
    "\n",
    "利用 neo4j 的查询语言 `Cypher` 进行相关查询。"
   ]
  },
  {
   "cell_type": "code",
   "execution_count": 12,
   "metadata": {
    "ExecuteTime": {
     "end_time": "2020-01-28T05:48:19.517559Z",
     "start_time": "2020-01-28T05:48:19.514553Z"
    }
   },
   "outputs": [],
   "source": [
    "import os\n",
    "from py2neo import Graph\n",
    "import warnings\n",
    "warnings.filterwarnings('ignore')"
   ]
  },
  {
   "cell_type": "code",
   "execution_count": 13,
   "metadata": {},
   "outputs": [],
   "source": [
    "def check_result(result):\n",
    "    for c in result :\n",
    "        print(c)"
   ]
  },
  {
   "cell_type": "code",
   "execution_count": 14,
   "metadata": {},
   "outputs": [],
   "source": [
    "graph = Graph(\n",
    "    \"bolt://localhost:7687\",\n",
    "    usernmae=\"neo4j\",\n",
    "    password=\"123456\"\n",
    ")"
   ]
  },
  {
   "cell_type": "markdown",
   "metadata": {},
   "source": [
    "### 2.1.可视化"
   ]
  },
  {
   "cell_type": "markdown",
   "metadata": {},
   "source": [
    "关系图谱将数据以关联方式呈现，更直观。正所谓一图胜千言"
   ]
  },
  {
   "cell_type": "markdown",
   "metadata": {},
   "source": [
    "这里举个例子：\n",
    "**查看山东国资背景的上市公司，在城市和行业上的分布情况。**"
   ]
  },
  {
   "cell_type": "markdown",
   "metadata": {},
   "source": [
    "国资背景上市公司\n",
    "https://zhuanlan.zhihu.com/p/22894178"
   ]
  },
  {
   "cell_type": "markdown",
   "metadata": {},
   "source": [
    "山东共有省属企业23家，资产总额12906亿元。其中部分上市公司的有：\n",
    "- 山东钢铁（600022）\n",
    "- 山东黄金（600547）\n",
    "- 鲁商置业（600223）\n",
    "- 银座股份（600858）\n",
    "- 山东高速（600350）\n",
    "- 山东路桥（000498）\n",
    "- 潍柴动力（000338）\n",
    "- 浪潮集团（000977）\n",
    "- 浪潮软件（600756）\n",
    "- 鲁银投资（600784）\n",
    "- 新华制药（000756）\n",
    "- 鲁抗医药（600789）"
   ]
  },
  {
   "cell_type": "code",
   "execution_count": 15,
   "metadata": {},
   "outputs": [],
   "source": [
    "query = \"\"\"\n",
    "        MATCH p1 = (a:LISTED_COMPANY)-[:IN_INDUSTRY]-(b:INDUSTRY) \n",
    "            WHERE a.share_code in [\"600022\",\"600547\",\"600223\",\"600858\",\"600350\",\"000498\",\"000338\",\"000977\",\"600756\",\"600784\",\"000756\",\"600789\"] \n",
    "        MATCH p2 = (a)-[:IN_CITY]-(c:CITY)-[:IN_PROVINCE]-(d:PROVINCE) \n",
    "        return p1,p2\n",
    "        \"\"\""
   ]
  },
  {
   "cell_type": "markdown",
   "metadata": {},
   "source": [
    "可视化后的结果如下："
   ]
  },
  {
   "cell_type": "markdown",
   "metadata": {},
   "source": [
    "![](../pictures/shandong_listed_companies.png)"
   ]
  },
  {
   "cell_type": "markdown",
   "metadata": {},
   "source": [
    "### 2.2.图查询"
   ]
  },
  {
   "cell_type": "markdown",
   "metadata": {},
   "source": [
    "关系图谱的一个很重要的应用就是为上层应用和服务提供图查询结构，并返回对应关联数据。\n",
    "比如推荐系统、以及风控场景下的关联排查等\n"
   ]
  },
  {
   "cell_type": "markdown",
   "metadata": {},
   "source": [
    "下面以本次的金融图谱举几个例子"
   ]
  },
  {
   "cell_type": "markdown",
   "metadata": {},
   "source": [
    "### 2.2.1. 江苏省 最受 基金 欢迎（持仓最多）的上市公司\n"
   ]
  },
  {
   "cell_type": "code",
   "execution_count": 16,
   "metadata": {},
   "outputs": [],
   "source": [
    "query1 = \"\"\"\n",
    "MATCH p = (a:FUND)-[:IN_PORTFOLIO]->(b:LISTED_COMPANY)-[:IN_CITY]-(c:CITY)-[:IN_PROVINCE]->(d:PROVINCE {province:\"江苏\"})  \n",
    "RETURN c.city as city,b.company as company,count(DISTINCT a.fund_code) as num\n",
    "ORDER BY num DESC\n",
    "limit 10\n",
    "\"\"\""
   ]
  },
  {
   "cell_type": "code",
   "execution_count": 17,
   "metadata": {},
   "outputs": [
    {
     "data": {
      "text/html": [
       "<div>\n",
       "<style scoped>\n",
       "    .dataframe tbody tr th:only-of-type {\n",
       "        vertical-align: middle;\n",
       "    }\n",
       "\n",
       "    .dataframe tbody tr th {\n",
       "        vertical-align: top;\n",
       "    }\n",
       "\n",
       "    .dataframe thead th {\n",
       "        text-align: right;\n",
       "    }\n",
       "</style>\n",
       "<table border=\"1\" class=\"dataframe\">\n",
       "  <thead>\n",
       "    <tr style=\"text-align: right;\">\n",
       "      <th></th>\n",
       "    </tr>\n",
       "  </thead>\n",
       "  <tbody>\n",
       "  </tbody>\n",
       "</table>\n",
       "</div>"
      ],
      "text/plain": [
       "Empty DataFrame\n",
       "Columns: []\n",
       "Index: []"
      ]
     },
     "execution_count": 17,
     "metadata": {},
     "output_type": "execute_result"
    }
   ],
   "source": [
    "df = graph.run(query1).to_data_frame()\n",
    "df.head(10)"
   ]
  },
  {
   "cell_type": "markdown",
   "metadata": {},
   "source": [
    "#### 2.2.2. 上市公司高管董事之间的兼任情况"
   ]
  },
  {
   "cell_type": "code",
   "execution_count": 19,
   "metadata": {},
   "outputs": [],
   "source": [
    "query2 = \"\"\"\n",
    "MATCH  (b:COMPANY)-[r1:其他|监事|高管|委员会成员|董事会成员|核心技术人员]->(d:MANAGER)\n",
    "MATCH  (c:COMPANY)-[r2:其他|监事|高管|委员会成员|董事会成员|核心技术人员]->(d)\n",
    "    WHERE  b.company<>c.company  \n",
    "RETURN b.company as company_s,\n",
    "       b.share_code as share_code_s ,\n",
    "       r1.title as title_s,\n",
    "       type(r1) as rel_s,\n",
    "       c.company as company_d,\n",
    "       c.share_code as share_code_d,\n",
    "       d.manager_id as manager_id,\n",
    "       r2.title as title_d,\n",
    "       type(r2) as rel_d,\n",
    "       d.name as name \n",
    "LIMIT 10 ;\n",
    "\"\"\""
   ]
  },
  {
   "cell_type": "markdown",
   "metadata": {},
   "source": [
    "![](../pictures/same_manager.png)"
   ]
  },
  {
   "cell_type": "code",
   "execution_count": 20,
   "metadata": {},
   "outputs": [],
   "source": [
    "df = graph.run(query2).to_data_frame()"
   ]
  },
  {
   "cell_type": "code",
   "execution_count": 21,
   "metadata": {},
   "outputs": [
    {
     "data": {
      "text/html": [
       "<div>\n",
       "<style scoped>\n",
       "    .dataframe tbody tr th:only-of-type {\n",
       "        vertical-align: middle;\n",
       "    }\n",
       "\n",
       "    .dataframe tbody tr th {\n",
       "        vertical-align: top;\n",
       "    }\n",
       "\n",
       "    .dataframe thead th {\n",
       "        text-align: right;\n",
       "    }\n",
       "</style>\n",
       "<table border=\"1\" class=\"dataframe\">\n",
       "  <thead>\n",
       "    <tr style=\"text-align: right;\">\n",
       "      <th></th>\n",
       "    </tr>\n",
       "  </thead>\n",
       "  <tbody>\n",
       "  </tbody>\n",
       "</table>\n",
       "</div>"
      ],
      "text/plain": [
       "Empty DataFrame\n",
       "Columns: []\n",
       "Index: []"
      ]
     },
     "execution_count": 21,
     "metadata": {},
     "output_type": "execute_result"
    }
   ],
   "source": [
    "df.head(2).T"
   ]
  },
  {
   "cell_type": "markdown",
   "metadata": {},
   "source": [
    "#### 2.2.3.基金推荐"
   ]
  },
  {
   "cell_type": "markdown",
   "metadata": {},
   "source": [
    "写个简单的基金推荐规则\n",
    "\n",
    "根据某个基金持仓在不同行业的分布情况，基于此推荐与其持仓行业最相似的 Top5 基金。"
   ]
  },
  {
   "cell_type": "code",
   "execution_count": 22,
   "metadata": {},
   "outputs": [],
   "source": [
    "fund_code = \"001508\""
   ]
  },
  {
   "cell_type": "code",
   "execution_count": 23,
   "metadata": {},
   "outputs": [],
   "source": [
    "query3 = \"\"\"\n",
    "MATCH p = (a:FUND)-[:IN_PORTFOLIO]->(b:COMPANY)-[:IN_INDUSTRY]-(c:INDUSTRY)  \n",
    "    WHERE a.fund_code=\"{}\"   \n",
    "WITH  COLLECT(DISTINCT c.industry) as industry_base  \n",
    "MATCH  (d:FUND)-[:IN_PORTFOLIO]->(e:COMPANY)-[:IN_INDUSTRY]-(f:INDUSTRY) \n",
    "WITH d.fund_code as fund_code, industry_base,collect(DISTINCT f.industry) as industry_target \n",
    "RETURN fund_code,\n",
    "       toFloat(length([ind in industry_target where ind in industry_base ]))/length(industry_target) as ration\n",
    "ORDER BY ration DESC\n",
    "LIMIT 5\n",
    "\"\"\".format(fund_code)"
   ]
  },
  {
   "cell_type": "code",
   "execution_count": 24,
   "metadata": {},
   "outputs": [],
   "source": [
    "df = graph.run(query3).to_data_frame()"
   ]
  },
  {
   "cell_type": "code",
   "execution_count": 25,
   "metadata": {},
   "outputs": [
    {
     "data": {
      "text/html": [
       "<div>\n",
       "<style scoped>\n",
       "    .dataframe tbody tr th:only-of-type {\n",
       "        vertical-align: middle;\n",
       "    }\n",
       "\n",
       "    .dataframe tbody tr th {\n",
       "        vertical-align: top;\n",
       "    }\n",
       "\n",
       "    .dataframe thead th {\n",
       "        text-align: right;\n",
       "    }\n",
       "</style>\n",
       "<table border=\"1\" class=\"dataframe\">\n",
       "  <thead>\n",
       "    <tr style=\"text-align: right;\">\n",
       "      <th></th>\n",
       "    </tr>\n",
       "  </thead>\n",
       "  <tbody>\n",
       "  </tbody>\n",
       "</table>\n",
       "</div>"
      ],
      "text/plain": [
       "Empty DataFrame\n",
       "Columns: []\n",
       "Index: []"
      ]
     },
     "execution_count": 25,
     "metadata": {},
     "output_type": "execute_result"
    }
   ],
   "source": [
    "df.head()"
   ]
  },
  {
   "cell_type": "code",
   "execution_count": null,
   "metadata": {},
   "outputs": [],
   "source": []
  },
  {
   "cell_type": "code",
   "execution_count": null,
   "metadata": {},
   "outputs": [],
   "source": []
  },
  {
   "cell_type": "code",
   "execution_count": null,
   "metadata": {},
   "outputs": [],
   "source": []
  },
  {
   "cell_type": "markdown",
   "metadata": {},
   "source": []
  }
 ],
 "metadata": {
  "kernelspec": {
   "display_name": "Python 3",
   "language": "python",
   "name": "python3"
  },
  "language_info": {
   "codemirror_mode": {
    "name": "ipython",
    "version": 3
   },
   "file_extension": ".py",
   "mimetype": "text/x-python",
   "name": "python",
   "nbconvert_exporter": "python",
   "pygments_lexer": "ipython3",
   "version": "3.6.9"
  },
  "toc": {
   "nav_menu": {},
   "number_sections": true,
   "sideBar": true,
   "skip_h1_title": false,
   "toc_cell": false,
   "toc_position": {},
   "toc_section_display": "block",
   "toc_window_display": false
  }
 },
 "nbformat": 4,
 "nbformat_minor": 1
}
