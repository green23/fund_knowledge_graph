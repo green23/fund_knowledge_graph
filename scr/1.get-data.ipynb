{
 "cells": [
  {
   "cell_type": "markdown",
   "metadata": {},
   "source": [
    "# 金融 证券 图谱搭建"
   ]
  },
  {
   "cell_type": "markdown",
   "metadata": {},
   "source": [
    "本项目为基于 Python 中金融数据包 `TUSHARE` ，搭建一个金融证券知识图谱。"
   ]
  },
  {
   "cell_type": "markdown",
   "metadata": {},
   "source": [
    "![](../pictures/structures.png)"
   ]
  },
  {
   "cell_type": "markdown",
   "metadata": {},
   "source": [
    "## 数据获取"
   ]
  },
  {
   "cell_type": "markdown",
   "metadata": {},
   "source": [
    "数据来源：TUSHARE\n",
    "\n",
    "网站：https://tushare.pro/document/2\n",
    "\n",
    "从 `TUSHARE` 的接口文档，对数据进行筛选。找出关联数据，这里我先选择以下**6**类数据。\n",
    "- 股票列表\n",
    "- 上市公司基本信息\n",
    "- 上市公司管理层\n",
    "- 公募基金列表\n",
    "- 公募基金公司\n",
    "- 公募基金持仓数据\n",
    "\n"
   ]
  },
  {
   "cell_type": "code",
   "execution_count": 7,
   "metadata": {
    "ExecuteTime": {
     "end_time": "2020-01-23T14:06:28.094164Z",
     "start_time": "2020-01-23T14:06:22.711163Z"
    }
   },
   "outputs": [],
   "source": [
    "import tushare as ts\n",
    "import pandas as pd\n",
    "\n",
    "from datetime import timedelta,datetime\n",
    "import time"
   ]
  },
  {
   "cell_type": "code",
   "execution_count": 12,
   "metadata": {
    "ExecuteTime": {
     "end_time": "2020-01-23T14:06:30.088167Z",
     "start_time": "2020-01-23T14:06:29.722164Z"
    }
   },
   "outputs": [],
   "source": [
    "ts.set_token('8b95d452f05b5041d7b6bc0de70753d69ce9c347cc2821afb4e5b3a8')\n",
    "pro = ts.pro_api()"
   ]
  },
  {
   "cell_type": "code",
   "execution_count": 18,
   "metadata": {},
   "outputs": [],
   "source": [
    "data_path = '../data/'"
   ]
  },
  {
   "cell_type": "markdown",
   "metadata": {},
   "source": [
    "### 获取上市公司名录"
   ]
  },
  {
   "cell_type": "markdown",
   "metadata": {},
   "source": [
    "链接：https://tushare.pro/document/2?doc_id=25"
   ]
  },
  {
   "cell_type": "markdown",
   "metadata": {},
   "source": [
    "|名称|类型|描述|\n",
    "|--|--|--|\n",
    "|ts_code|str|TS代码|\n",
    "|symbol|str|<font  color=#009688  >**股票代码**</font>|\n",
    "|name|str|<font  color=#009688  >**股票名称**</font>|\n",
    "|area|str|所在地域|\n",
    "|industry|str|<font  color=#009688  >**所属行业**</font>|\n",
    "|fullname|str|股票全称|\n",
    "|enname|str|英文全称|\n",
    "|market|str|市场类型 （主板/中小板/创业板/科创板）|\n",
    "|exchange|str|交易所代码|\n",
    "|curr_type|str|交易货币|\n",
    "|list_status|str|上市状态： L上市 D退市 P暂停上市|\n",
    "|list_date|str|上市日期|\n",
    "|delist_date|str|退市日期|\n",
    "|is_hs|str|是否沪深港通标的，N否 H沪股通 S深股通|"
   ]
  },
  {
   "cell_type": "code",
   "execution_count": 19,
   "metadata": {
    "ExecuteTime": {
     "end_time": "2020-01-07T05:54:58.304405Z",
     "start_time": "2020-01-07T05:54:56.967231Z"
    }
   },
   "outputs": [
    {
     "data": {
      "text/plain": [
       "(3789, 14)"
      ]
     },
     "execution_count": 19,
     "metadata": {},
     "output_type": "execute_result"
    }
   ],
   "source": [
    "columns = 'ts_code,symbol,name,area,industry,fullname,enname,market,exchange,curr_type,list_status,list_date,delist_date,is_hs'\n",
    "\n",
    "total_stocks = pro.stock_basic(fields = columns)\n",
    "# total_stocks = pro.query('stock_basic', exchange='', list_status='L', fields= columns)\n",
    "\n",
    "total_stocks.shape"
   ]
  },
  {
   "cell_type": "markdown",
   "metadata": {
    "ExecuteTime": {
     "end_time": "2019-12-24T07:29:39.569149Z",
     "start_time": "2019-12-24T07:29:39.559183Z"
    }
   },
   "source": [
    "total_stocks.exchange.value_counts()"
   ]
  },
  {
   "cell_type": "code",
   "execution_count": 20,
   "metadata": {
    "ExecuteTime": {
     "end_time": "2019-12-24T07:33:08.354407Z",
     "start_time": "2019-12-24T07:33:08.308450Z"
    }
   },
   "outputs": [],
   "source": [
    "# 保存数据\n",
    "total_stocks.to_csv(data_path + 'company_lsit_all.csv')"
   ]
  },
  {
   "cell_type": "code",
   "execution_count": 21,
   "metadata": {
    "ExecuteTime": {
     "end_time": "2020-01-20T05:12:44.072237Z",
     "start_time": "2020-01-20T05:12:44.037230Z"
    }
   },
   "outputs": [],
   "source": [
    "total_stocks = pd.read_csv(data_path + 'company_lsit_all.csv')"
   ]
  },
  {
   "cell_type": "code",
   "execution_count": 22,
   "metadata": {
    "ExecuteTime": {
     "end_time": "2019-12-24T07:10:04.332832Z",
     "start_time": "2019-12-24T07:10:04.309894Z"
    }
   },
   "outputs": [
    {
     "data": {
      "text/plain": [
       "主板     1958\n",
       "中小板     945\n",
       "创业板     795\n",
       "科创板      91\n",
       "Name: market, dtype: int64"
      ]
     },
     "execution_count": 22,
     "metadata": {},
     "output_type": "execute_result"
    }
   ],
   "source": [
    "total_stocks.market.value_counts()"
   ]
  },
  {
   "cell_type": "markdown",
   "metadata": {},
   "source": [
    "### 上市公司基本信息"
   ]
  },
  {
   "cell_type": "markdown",
   "metadata": {},
   "source": [
    "这部分数据与上面的上市公司名录互补，提取所在省份和城市。"
   ]
  },
  {
   "cell_type": "markdown",
   "metadata": {
    "ExecuteTime": {
     "end_time": "2020-01-07T06:13:41.662359Z",
     "start_time": "2020-01-07T06:13:41.653358Z"
    }
   },
   "source": [
    "|名称|类型|默认显示|描述|\n",
    "|---|---|---|---|\n",
    "|ts_code|str|Y| <font  color=#009688  >**股票代码**</font>|\n",
    "|exchange|str|Y| 交易所代码 ，SSE上交所 SZSE深交所|\n",
    "|chairman|str|Y| 法人代表|\n",
    "|manager |str|Y| 总经理|\n",
    "|secretary| str|Y| 董秘|\n",
    "|reg_capital |float| Y| 注册资本|\n",
    "|setup_date|str|Y| 注册日期|\n",
    "|province|str|Y| <font  color=#009688  >**所在省份**</font>|\n",
    "|city|str|Y|  <font  color=#009688  >**所在城市**</font>|\n",
    "|introduction|str|N| 公司介绍|\n",
    "|website |str|Y| 公司主页|\n",
    "|email| str|Y| 电子邮件|\n",
    "|office|str|N| 办公室|\n",
    "|employees| int|Y| 员工人数|\n",
    "|main_business| str|N| 主要业务及产品|\n",
    "|business_scope|str|N| 经营范围|"
   ]
  },
  {
   "cell_type": "code",
   "execution_count": 23,
   "metadata": {
    "ExecuteTime": {
     "end_time": "2020-01-07T06:29:58.075740Z",
     "start_time": "2020-01-07T06:29:56.810875Z"
    }
   },
   "outputs": [],
   "source": [
    "df_szse =  pro.stock_company(exchange = \"SZSE\")\n",
    "df_sse =  pro.stock_company(exchange = \"SSE\")\n",
    "\n",
    "# 合并 深交所 和 上交所 股票\n",
    "df_company_detail = pd.concat([df_szse,df_sse])"
   ]
  },
  {
   "cell_type": "code",
   "execution_count": 24,
   "metadata": {
    "ExecuteTime": {
     "end_time": "2020-01-07T06:35:23.616406Z",
     "start_time": "2020-01-07T06:35:23.610406Z"
    }
   },
   "outputs": [
    {
     "data": {
      "text/plain": [
       "((2273, 12), (1651, 12), (3924, 12))"
      ]
     },
     "execution_count": 24,
     "metadata": {},
     "output_type": "execute_result"
    }
   ],
   "source": [
    "df_szse.shape,df_sse.shape,df_company_detail.shape"
   ]
  },
  {
   "cell_type": "code",
   "execution_count": 26,
   "metadata": {
    "ExecuteTime": {
     "end_time": "2020-01-07T06:36:49.128301Z",
     "start_time": "2020-01-07T06:36:49.085218Z"
    }
   },
   "outputs": [],
   "source": [
    "# 保存数据\n",
    "df_company_detail.to_csv('../data/company_detail_all.csv',index=False)"
   ]
  },
  {
   "cell_type": "code",
   "execution_count": 27,
   "metadata": {
    "ExecuteTime": {
     "end_time": "2020-01-20T08:09:07.723312Z",
     "start_time": "2020-01-20T08:09:07.681301Z"
    }
   },
   "outputs": [],
   "source": [
    "df_company_detail = pd.read_csv('../data/company_detail_all.csv')"
   ]
  },
  {
   "cell_type": "code",
   "execution_count": 28,
   "metadata": {
    "ExecuteTime": {
     "end_time": "2020-01-07T06:36:03.463796Z",
     "start_time": "2020-01-07T06:36:03.442795Z"
    }
   },
   "outputs": [
    {
     "data": {
      "text/html": [
       "<div>\n",
       "<style scoped>\n",
       "    .dataframe tbody tr th:only-of-type {\n",
       "        vertical-align: middle;\n",
       "    }\n",
       "\n",
       "    .dataframe tbody tr th {\n",
       "        vertical-align: top;\n",
       "    }\n",
       "\n",
       "    .dataframe thead th {\n",
       "        text-align: right;\n",
       "    }\n",
       "</style>\n",
       "<table border=\"1\" class=\"dataframe\">\n",
       "  <thead>\n",
       "    <tr style=\"text-align: right;\">\n",
       "      <th></th>\n",
       "      <th>0</th>\n",
       "      <th>1</th>\n",
       "      <th>2</th>\n",
       "      <th>3</th>\n",
       "      <th>4</th>\n",
       "    </tr>\n",
       "  </thead>\n",
       "  <tbody>\n",
       "    <tr>\n",
       "      <th>ts_code</th>\n",
       "      <td>300381.SZ</td>\n",
       "      <td>300222.SZ</td>\n",
       "      <td>300416.SZ</td>\n",
       "      <td>300234.SZ</td>\n",
       "      <td>300395.SZ</td>\n",
       "    </tr>\n",
       "    <tr>\n",
       "      <th>exchange</th>\n",
       "      <td>SZSE</td>\n",
       "      <td>SZSE</td>\n",
       "      <td>SZSE</td>\n",
       "      <td>SZSE</td>\n",
       "      <td>SZSE</td>\n",
       "    </tr>\n",
       "    <tr>\n",
       "      <th>chairman</th>\n",
       "      <td>陈少美</td>\n",
       "      <td>黄明松</td>\n",
       "      <td>钟琼华</td>\n",
       "      <td>邢翰学</td>\n",
       "      <td>吴学民</td>\n",
       "    </tr>\n",
       "    <tr>\n",
       "      <th>manager</th>\n",
       "      <td>陈少美</td>\n",
       "      <td>黄明松</td>\n",
       "      <td>钟琼华</td>\n",
       "      <td>邢翰学</td>\n",
       "      <td>商春利</td>\n",
       "    </tr>\n",
       "    <tr>\n",
       "      <th>secretary</th>\n",
       "      <td>周德荣</td>\n",
       "      <td>穆峻柏</td>\n",
       "      <td>陈英</td>\n",
       "      <td>许哲远</td>\n",
       "      <td>郑巍</td>\n",
       "    </tr>\n",
       "    <tr>\n",
       "      <th>reg_capital</th>\n",
       "      <td>43984.2</td>\n",
       "      <td>72475.1</td>\n",
       "      <td>13557.8</td>\n",
       "      <td>28953.5</td>\n",
       "      <td>33815.8</td>\n",
       "    </tr>\n",
       "    <tr>\n",
       "      <th>setup_date</th>\n",
       "      <td>19910903</td>\n",
       "      <td>20021127</td>\n",
       "      <td>20071229</td>\n",
       "      <td>20030429</td>\n",
       "      <td>19990122</td>\n",
       "    </tr>\n",
       "    <tr>\n",
       "      <th>province</th>\n",
       "      <td>广东</td>\n",
       "      <td>上海</td>\n",
       "      <td>江苏</td>\n",
       "      <td>浙江</td>\n",
       "      <td>湖北</td>\n",
       "    </tr>\n",
       "    <tr>\n",
       "      <th>city</th>\n",
       "      <td>珠海市</td>\n",
       "      <td>上海市</td>\n",
       "      <td>苏州市</td>\n",
       "      <td>金华市</td>\n",
       "      <td>荆州市</td>\n",
       "    </tr>\n",
       "    <tr>\n",
       "      <th>website</th>\n",
       "      <td>www.yiduoli.com</td>\n",
       "      <td>www.csg.com.cn</td>\n",
       "      <td>www.chinasti.com</td>\n",
       "      <td>www.zjke.com/www.zjke.com.cn</td>\n",
       "      <td>www.feilihua.com</td>\n",
       "    </tr>\n",
       "    <tr>\n",
       "      <th>email</th>\n",
       "      <td>vtrbio@vtrbio.com</td>\n",
       "      <td>kdzn@csg.com.cn;mjb@csg.com.cn</td>\n",
       "      <td>sushi@chinasti.com</td>\n",
       "      <td>stock@zjke.com;xuzheyuan@zjke.com</td>\n",
       "      <td>zqb@feilihua.com</td>\n",
       "    </tr>\n",
       "    <tr>\n",
       "      <th>employees</th>\n",
       "      <td>2611</td>\n",
       "      <td>3618</td>\n",
       "      <td>908</td>\n",
       "      <td>621</td>\n",
       "      <td>1222</td>\n",
       "    </tr>\n",
       "  </tbody>\n",
       "</table>\n",
       "</div>"
      ],
      "text/plain": [
       "                             0                               1  \\\n",
       "ts_code              300381.SZ                       300222.SZ   \n",
       "exchange                  SZSE                            SZSE   \n",
       "chairman                   陈少美                             黄明松   \n",
       "manager                    陈少美                             黄明松   \n",
       "secretary                  周德荣                             穆峻柏   \n",
       "reg_capital            43984.2                         72475.1   \n",
       "setup_date            19910903                        20021127   \n",
       "province                    广东                              上海   \n",
       "city                       珠海市                             上海市   \n",
       "website        www.yiduoli.com                  www.csg.com.cn   \n",
       "email        vtrbio@vtrbio.com  kdzn@csg.com.cn;mjb@csg.com.cn   \n",
       "employees                 2611                            3618   \n",
       "\n",
       "                              2                                  3  \\\n",
       "ts_code               300416.SZ                          300234.SZ   \n",
       "exchange                   SZSE                               SZSE   \n",
       "chairman                    钟琼华                                邢翰学   \n",
       "manager                     钟琼华                                邢翰学   \n",
       "secretary                    陈英                                许哲远   \n",
       "reg_capital             13557.8                            28953.5   \n",
       "setup_date             20071229                           20030429   \n",
       "province                     江苏                                 浙江   \n",
       "city                        苏州市                                金华市   \n",
       "website        www.chinasti.com       www.zjke.com/www.zjke.com.cn   \n",
       "email        sushi@chinasti.com  stock@zjke.com;xuzheyuan@zjke.com   \n",
       "employees                   908                                621   \n",
       "\n",
       "                            4  \n",
       "ts_code             300395.SZ  \n",
       "exchange                 SZSE  \n",
       "chairman                  吴学民  \n",
       "manager                   商春利  \n",
       "secretary                  郑巍  \n",
       "reg_capital           33815.8  \n",
       "setup_date           19990122  \n",
       "province                   湖北  \n",
       "city                      荆州市  \n",
       "website      www.feilihua.com  \n",
       "email        zqb@feilihua.com  \n",
       "employees                1222  "
      ]
     },
     "execution_count": 28,
     "metadata": {},
     "output_type": "execute_result"
    }
   ],
   "source": [
    "df_company_detail.head().T"
   ]
  },
  {
   "cell_type": "code",
   "execution_count": 29,
   "metadata": {
    "ExecuteTime": {
     "end_time": "2020-01-08T03:05:18.320908Z",
     "start_time": "2020-01-08T03:05:18.315892Z"
    }
   },
   "outputs": [],
   "source": [
    "share_list = set(df_company_detail.ts_code.tolist())"
   ]
  },
  {
   "cell_type": "markdown",
   "metadata": {},
   "source": [
    "### 上市公司管理层"
   ]
  },
  {
   "cell_type": "markdown",
   "metadata": {},
   "source": [
    "|名称|类型|默认显示|描述|\n",
    "|----|----|---|--|\n",
    "|ts_code| str|Y| <font  color=#009688  >**TS股票代码**</font>|\n",
    "|ann_date|str|Y| 公告日期|\n",
    "|name|str|Y| <font  color=#009688  >**姓名**</font>|\n",
    "|gender|str|Y| 性别|\n",
    "|lev|str|Y| 岗位类别|\n",
    "|title| str|Y| 岗位|\n",
    "|edu|str|Y| 学历|\n",
    "|national|str|Y| 国籍|\n",
    "|birthday|str|Y| 出生年月|\n",
    "|begin_date|str|Y| 上任日期|\n",
    "|end_date|str|Y| 离任日期|\n",
    "|resume|str|N| 个人简历|"
   ]
  },
  {
   "cell_type": "markdown",
   "metadata": {},
   "source": [
    "用户需要2000积分才可以调取"
   ]
  },
  {
   "cell_type": "code",
   "execution_count": 33,
   "metadata": {
    "ExecuteTime": {
     "end_time": "2020-01-20T05:21:40.623899Z",
     "start_time": "2020-01-20T05:21:40.617897Z"
    }
   },
   "outputs": [],
   "source": [
    "def get_data(share_list,func,data_path='../data/',filename='temp.csv'):\n",
    "    for i,comp in enumerate(share_list):\n",
    "        df = func(ts_code=comp)\n",
    "        if i == 0:\n",
    "            df.to_csv(data_path + filename,index=False, mode='a')\n",
    "        else:    \n",
    "            df.to_csv(data_path + filename,index=False, mode='a', header=None)\n",
    "\n",
    "        if i % 50 ==0: \n",
    "            print(comp,'_num_:',i)\n",
    "\n",
    "        # 抱歉，您每分钟最多访问该接口80次\n",
    "        time.sleep(1)"
   ]
  },
  {
   "cell_type": "code",
   "execution_count": 34,
   "metadata": {
    "ExecuteTime": {
     "end_time": "2020-01-20T08:09:25.799149Z",
     "start_time": "2020-01-20T08:09:25.793148Z"
    }
   },
   "outputs": [],
   "source": [
    "share_list = list(set(df_company_detail['ts_code']))"
   ]
  },
  {
   "cell_type": "code",
   "execution_count": 35,
   "metadata": {
    "ExecuteTime": {
     "end_time": "2020-01-20T06:39:58.897020Z",
     "start_time": "2020-01-20T05:21:46.012453Z"
    },
    "scrolled": true
   },
   "outputs": [
    {
     "name": "stdout",
     "output_type": "stream",
     "text": [
      "300797.SZ _num_: 0\n",
      "002940.SZ _num_: 50\n",
      "603019.SH _num_: 100\n",
      "300454.SZ _num_: 150\n",
      "600177.SH _num_: 200\n",
      "002151.SZ _num_: 250\n",
      "600489.SH _num_: 300\n",
      "002842.SZ _num_: 350\n",
      "300324.SZ _num_: 400\n",
      "300711.SZ _num_: 450\n",
      "300004.SZ _num_: 500\n",
      "600009.SH _num_: 550\n",
      "002923.SZ _num_: 600\n",
      "600604.SH _num_: 650\n",
      "300298.SZ _num_: 700\n",
      "300448.SZ _num_: 750\n",
      "300449.SZ _num_: 800\n",
      "002688.SZ _num_: 850\n",
      "300801.SZ _num_: 900\n",
      "601901.SH _num_: 950\n",
      "002631.SZ _num_: 1000\n",
      "600485.SH _num_: 1050\n",
      "600162.SH _num_: 1100\n",
      "002487.SZ _num_: 1150\n",
      "600804.SH _num_: 1200\n",
      "600353.SH _num_: 1250\n",
      "300812.SZ _num_: 1300\n",
      "002750.SZ _num_: 1350\n",
      "600999.SH _num_: 1400\n",
      "002640.SZ _num_: 1450\n",
      "000584.SZ _num_: 1500\n",
      "300665.SZ _num_: 1550\n",
      "300372.SZ _num_: 1600\n",
      "600795.SH _num_: 1650\n",
      "300475.SZ _num_: 1700\n",
      "002238.SZ _num_: 1750\n",
      "603869.SH _num_: 1800\n",
      "603680.SH _num_: 1850\n",
      "002439.SZ _num_: 1900\n",
      "603980.SH _num_: 1950\n",
      "300746.SZ _num_: 2000\n",
      "600522.SH _num_: 2050\n",
      "603706.SH _num_: 2100\n",
      "002646.SZ _num_: 2150\n",
      "002369.SZ _num_: 2200\n",
      "300585.SZ _num_: 2250\n",
      "603569.SH _num_: 2300\n",
      "002145.SZ _num_: 2350\n",
      "601019.SH _num_: 2400\n",
      "300482.SZ _num_: 2450\n",
      "002782.SZ _num_: 2500\n",
      "600239.SH _num_: 2550\n",
      "000760.SZ _num_: 2600\n",
      "300289.SZ _num_: 2650\n",
      "300466.SZ _num_: 2700\n",
      "002471.SZ _num_: 2750\n",
      "001696.SZ _num_: 2800\n",
      "600103.SH _num_: 2850\n",
      "603612.SH _num_: 2900\n",
      "000875.SZ _num_: 2950\n",
      "002153.SZ _num_: 3000\n",
      "002256.SZ _num_: 3050\n",
      "603587.SH _num_: 3100\n",
      "300064.SZ _num_: 3150\n",
      "603036.SH _num_: 3200\n",
      "603676.SH _num_: 3250\n",
      "300503.SZ _num_: 3300\n",
      "002009.SZ _num_: 3350\n",
      "601020.SH _num_: 3400\n",
      "002604.SZ _num_: 3450\n",
      "603915.SH _num_: 3500\n",
      "600435.SH _num_: 3550\n",
      "603030.SH _num_: 3600\n",
      "601658.SH _num_: 3650\n",
      "000693.SZ _num_: 3700\n",
      "000078.SZ _num_: 3750\n",
      "300214.SZ _num_: 3800\n",
      "300687.SZ _num_: 3850\n",
      "688021.SH _num_: 3900\n"
     ]
    }
   ],
   "source": [
    "get_data(share_list,func = pro.stk_managers ,data_path = data_path ,filename=f'stk_managers.csv')"
   ]
  },
  {
   "cell_type": "markdown",
   "metadata": {},
   "source": [
    "### 公募基金列表"
   ]
  },
  {
   "cell_type": "markdown",
   "metadata": {},
   "source": [
    "https://tushare.pro/document/2?doc_id=19"
   ]
  },
  {
   "cell_type": "markdown",
   "metadata": {},
   "source": [
    "|名称|类型|默认显示|描述|\n",
    "|--|--|--|--|\n",
    "|ts_code|str|Y|<font  color=#009688  >**基金代码**</font>|\n",
    "|name|str|Y|简称|\n",
    "|management|str|Y|<font  color=#009688  >**管理人**</font>|\n",
    "|custodian|str|Y|<font  color=#009688  >**托管人**</font>|\n",
    "|fund_type|str|Y|投资类型|\n",
    "|found_date|str|Y|成立日期|\n",
    "|due_date|str|Y|到期日期|\n",
    "|list_date|str|Y|上市时间|\n",
    "|issue_date|str|Y|发行日期|\n",
    "|delist_date|str|Y|退市日期|\n",
    "|issue_amount|float|Y|发行份额(亿)|\n",
    "|m_fee|float|Y|管理费|\n",
    "|c_fee|float|Y|托管费|\n",
    "|duration_year|float|Y|存续期|\n",
    "|p_value|float|Y|面值|\n",
    "|min_amount|float|Y|起点金额(万元)|\n",
    "|exp_return|float|Y|预期收益率|\n",
    "|benchmark|str|Y|业绩比较基准|\n",
    "|status|str|Y|存续状态D摘牌 I发行 L已上市|\n",
    "|invest_type|str|Y|投资风格|\n",
    "|type|str|Y|基金类型|\n",
    "|trustee|str|Y|受托人|\n",
    "|purc_startdate|str|Y|日常申购起始日|\n",
    "|redm_startdate|str|Y|日常赎回起始日|\n",
    "|market|str|Y|E场内O场外|"
   ]
  },
  {
   "cell_type": "markdown",
   "metadata": {},
   "source": [
    "描述：获取公募基金数据列表，包括场内和场外基金\n",
    "积分：用户需要1500积分才可以调取"
   ]
  },
  {
   "cell_type": "code",
   "execution_count": 36,
   "metadata": {
    "ExecuteTime": {
     "end_time": "2020-01-10T07:39:50.973614Z",
     "start_time": "2020-01-10T07:39:46.751148Z"
    }
   },
   "outputs": [],
   "source": [
    "df_e = pro.fund_basic(market='E')   # 交易市场: E场内 O场外（默认E）\n",
    "df_o = pro.fund_basic(market='O')   # 交易市场: E场内 O场外（默认E）\n",
    "\n",
    "df_all = pd.concat([df_e,df_o])\n",
    "\n",
    "df_all.to_csv('../data/fund_basic.csv',index=False)"
   ]
  },
  {
   "cell_type": "code",
   "execution_count": 37,
   "metadata": {
    "ExecuteTime": {
     "end_time": "2020-01-10T11:54:34.549828Z",
     "start_time": "2020-01-10T11:54:34.542835Z"
    }
   },
   "outputs": [
    {
     "data": {
      "text/plain": [
       "(11087, 25)"
      ]
     },
     "execution_count": 37,
     "metadata": {},
     "output_type": "execute_result"
    }
   ],
   "source": [
    "df_all.shape"
   ]
  },
  {
   "cell_type": "code",
   "execution_count": 38,
   "metadata": {
    "ExecuteTime": {
     "end_time": "2020-01-10T11:55:06.110267Z",
     "start_time": "2020-01-10T11:55:06.068267Z"
    }
   },
   "outputs": [
    {
     "data": {
      "text/html": [
       "<div>\n",
       "<style scoped>\n",
       "    .dataframe tbody tr th:only-of-type {\n",
       "        vertical-align: middle;\n",
       "    }\n",
       "\n",
       "    .dataframe tbody tr th {\n",
       "        vertical-align: top;\n",
       "    }\n",
       "\n",
       "    .dataframe thead th {\n",
       "        text-align: right;\n",
       "    }\n",
       "</style>\n",
       "<table border=\"1\" class=\"dataframe\">\n",
       "  <thead>\n",
       "    <tr style=\"text-align: right;\">\n",
       "      <th></th>\n",
       "      <th>ts_code</th>\n",
       "      <th>name</th>\n",
       "      <th>management</th>\n",
       "      <th>custodian</th>\n",
       "      <th>fund_type</th>\n",
       "      <th>found_date</th>\n",
       "      <th>due_date</th>\n",
       "      <th>list_date</th>\n",
       "      <th>issue_date</th>\n",
       "      <th>delist_date</th>\n",
       "      <th>...</th>\n",
       "      <th>min_amount</th>\n",
       "      <th>exp_return</th>\n",
       "      <th>benchmark</th>\n",
       "      <th>status</th>\n",
       "      <th>invest_type</th>\n",
       "      <th>type</th>\n",
       "      <th>trustee</th>\n",
       "      <th>purc_startdate</th>\n",
       "      <th>redm_startdate</th>\n",
       "      <th>market</th>\n",
       "    </tr>\n",
       "  </thead>\n",
       "  <tbody>\n",
       "    <tr>\n",
       "      <th>0</th>\n",
       "      <td>159994.SZ</td>\n",
       "      <td>5GETF</td>\n",
       "      <td>银华基金</td>\n",
       "      <td>中国农业银行</td>\n",
       "      <td>股票型</td>\n",
       "      <td>20200122</td>\n",
       "      <td>None</td>\n",
       "      <td>20200228</td>\n",
       "      <td>20191227</td>\n",
       "      <td>None</td>\n",
       "      <td>...</td>\n",
       "      <td>0.1</td>\n",
       "      <td>None</td>\n",
       "      <td>中证5G通信主题指数</td>\n",
       "      <td>I</td>\n",
       "      <td>被动指数型</td>\n",
       "      <td>契约型开放式</td>\n",
       "      <td>None</td>\n",
       "      <td>20200228</td>\n",
       "      <td>20200228</td>\n",
       "      <td>E</td>\n",
       "    </tr>\n",
       "    <tr>\n",
       "      <th>1</th>\n",
       "      <td>515850.SH</td>\n",
       "      <td>证券FG</td>\n",
       "      <td>富国基金</td>\n",
       "      <td>中国建设银行</td>\n",
       "      <td>股票型</td>\n",
       "      <td>20200121</td>\n",
       "      <td>None</td>\n",
       "      <td>20200221</td>\n",
       "      <td>20191016</td>\n",
       "      <td>None</td>\n",
       "      <td>...</td>\n",
       "      <td>0.1</td>\n",
       "      <td>None</td>\n",
       "      <td>中证全指证券公司指数收益率</td>\n",
       "      <td>L</td>\n",
       "      <td>被动指数型</td>\n",
       "      <td>契约型开放式</td>\n",
       "      <td>None</td>\n",
       "      <td>20200221</td>\n",
       "      <td>20200221</td>\n",
       "      <td>E</td>\n",
       "    </tr>\n",
       "    <tr>\n",
       "      <th>2</th>\n",
       "      <td>159801.SZ</td>\n",
       "      <td>芯片基金</td>\n",
       "      <td>广发基金</td>\n",
       "      <td>中国工商银行</td>\n",
       "      <td>股票型</td>\n",
       "      <td>20200120</td>\n",
       "      <td>None</td>\n",
       "      <td>20200218</td>\n",
       "      <td>20200106</td>\n",
       "      <td>None</td>\n",
       "      <td>...</td>\n",
       "      <td>0.1</td>\n",
       "      <td>None</td>\n",
       "      <td>国证半导体芯片指数收益率</td>\n",
       "      <td>L</td>\n",
       "      <td>被动指数型</td>\n",
       "      <td>契约型开放式</td>\n",
       "      <td>None</td>\n",
       "      <td>20200218</td>\n",
       "      <td>20200218</td>\n",
       "      <td>E</td>\n",
       "    </tr>\n",
       "    <tr>\n",
       "      <th>3</th>\n",
       "      <td>159995.SZ</td>\n",
       "      <td>芯片ETF</td>\n",
       "      <td>华夏基金</td>\n",
       "      <td>中国建设银行</td>\n",
       "      <td>股票型</td>\n",
       "      <td>20200120</td>\n",
       "      <td>None</td>\n",
       "      <td>20200210</td>\n",
       "      <td>20191224</td>\n",
       "      <td>None</td>\n",
       "      <td>...</td>\n",
       "      <td>0.1</td>\n",
       "      <td>None</td>\n",
       "      <td>国证半导体芯片指数收益率</td>\n",
       "      <td>L</td>\n",
       "      <td>被动指数型</td>\n",
       "      <td>契约型开放式</td>\n",
       "      <td>None</td>\n",
       "      <td>20200210</td>\n",
       "      <td>20200210</td>\n",
       "      <td>E</td>\n",
       "    </tr>\n",
       "    <tr>\n",
       "      <th>4</th>\n",
       "      <td>515090.SH</td>\n",
       "      <td>可持续</td>\n",
       "      <td>博时基金</td>\n",
       "      <td>招商银行</td>\n",
       "      <td>股票型</td>\n",
       "      <td>20200119</td>\n",
       "      <td>None</td>\n",
       "      <td>20200220</td>\n",
       "      <td>20191216</td>\n",
       "      <td>None</td>\n",
       "      <td>...</td>\n",
       "      <td>0.1</td>\n",
       "      <td>None</td>\n",
       "      <td>中证可持续发展100指数收益率*95%+银行活期存款利率(税后)*5%</td>\n",
       "      <td>L</td>\n",
       "      <td>被动指数型</td>\n",
       "      <td>契约型开放式</td>\n",
       "      <td>None</td>\n",
       "      <td>20200220</td>\n",
       "      <td>20200220</td>\n",
       "      <td>E</td>\n",
       "    </tr>\n",
       "  </tbody>\n",
       "</table>\n",
       "<p>5 rows × 25 columns</p>\n",
       "</div>"
      ],
      "text/plain": [
       "     ts_code   name management custodian fund_type found_date due_date  \\\n",
       "0  159994.SZ  5GETF       银华基金    中国农业银行       股票型   20200122     None   \n",
       "1  515850.SH   证券FG       富国基金    中国建设银行       股票型   20200121     None   \n",
       "2  159801.SZ   芯片基金       广发基金    中国工商银行       股票型   20200120     None   \n",
       "3  159995.SZ  芯片ETF       华夏基金    中国建设银行       股票型   20200120     None   \n",
       "4  515090.SH    可持续       博时基金      招商银行       股票型   20200119     None   \n",
       "\n",
       "  list_date issue_date delist_date  ...  min_amount  exp_return  \\\n",
       "0  20200228   20191227        None  ...         0.1        None   \n",
       "1  20200221   20191016        None  ...         0.1        None   \n",
       "2  20200218   20200106        None  ...         0.1        None   \n",
       "3  20200210   20191224        None  ...         0.1        None   \n",
       "4  20200220   20191216        None  ...         0.1        None   \n",
       "\n",
       "                             benchmark  status  invest_type    type trustee  \\\n",
       "0                           中证5G通信主题指数       I        被动指数型  契约型开放式    None   \n",
       "1                        中证全指证券公司指数收益率       L        被动指数型  契约型开放式    None   \n",
       "2                         国证半导体芯片指数收益率       L        被动指数型  契约型开放式    None   \n",
       "3                         国证半导体芯片指数收益率       L        被动指数型  契约型开放式    None   \n",
       "4  中证可持续发展100指数收益率*95%+银行活期存款利率(税后)*5%       L        被动指数型  契约型开放式    None   \n",
       "\n",
       "  purc_startdate redm_startdate market  \n",
       "0       20200228       20200228      E  \n",
       "1       20200221       20200221      E  \n",
       "2       20200218       20200218      E  \n",
       "3       20200210       20200210      E  \n",
       "4       20200220       20200220      E  \n",
       "\n",
       "[5 rows x 25 columns]"
      ]
     },
     "execution_count": 38,
     "metadata": {},
     "output_type": "execute_result"
    }
   ],
   "source": [
    "df_all.head()"
   ]
  },
  {
   "cell_type": "markdown",
   "metadata": {},
   "source": [
    "### 公募基金公司\n"
   ]
  },
  {
   "cell_type": "markdown",
   "metadata": {},
   "source": [
    "描述：获取公募基金管理人列表\n",
    "\n",
    "积分：用户需要1500积分才可以调取，一次可以提取全部数据。"
   ]
  },
  {
   "cell_type": "markdown",
   "metadata": {},
   "source": [
    "|名称|类型|默认显示|描述|\n",
    "|--|--|--|--|\n",
    "|name|str|Y|<font  color=#009688  >**基金公司名称**</font>|\n",
    "|shortname|str|Y|简称|\n",
    "|short_enname|str|N|英文缩写|\n",
    "|province|str|Y|省份|\n",
    "|city|str|Y|城市|\n",
    "|address|str|Y|注册地址|\n",
    "|phone|str|Y|电话|\n",
    "|office|str|Y|办公地址|\n",
    "|website|str|Y|公司网址|\n",
    "|chairman|str|Y|法人代表|\n",
    "|manager|str|Y|总经理|\n",
    "|reg_capital|float|Y|注册资本|\n",
    "|setup_date|str|Y|成立日期|\n",
    "|end_date|str|Y|公司终止日期|\n",
    "|employees|float|Y|员工总数|\n",
    "|main_business|str|Y|主要产品及业务|\n",
    "|org_code|str|Y|组织机构代码|\n",
    "|credit_code|str|Y|统一社会信用代码|"
   ]
  },
  {
   "cell_type": "code",
   "execution_count": 39,
   "metadata": {
    "ExecuteTime": {
     "end_time": "2020-01-10T11:52:39.898518Z",
     "start_time": "2020-01-10T11:52:30.471442Z"
    }
   },
   "outputs": [],
   "source": [
    "df = pro.fund_company()\n",
    "\n",
    "df.to_csv('../data/fund_company.csv', index=False)"
   ]
  },
  {
   "cell_type": "code",
   "execution_count": 40,
   "metadata": {
    "ExecuteTime": {
     "end_time": "2020-01-10T11:52:41.407278Z",
     "start_time": "2020-01-10T11:52:41.373275Z"
    }
   },
   "outputs": [
    {
     "data": {
      "text/html": [
       "<div>\n",
       "<style scoped>\n",
       "    .dataframe tbody tr th:only-of-type {\n",
       "        vertical-align: middle;\n",
       "    }\n",
       "\n",
       "    .dataframe tbody tr th {\n",
       "        vertical-align: top;\n",
       "    }\n",
       "\n",
       "    .dataframe thead th {\n",
       "        text-align: right;\n",
       "    }\n",
       "</style>\n",
       "<table border=\"1\" class=\"dataframe\">\n",
       "  <thead>\n",
       "    <tr style=\"text-align: right;\">\n",
       "      <th></th>\n",
       "      <th>0</th>\n",
       "      <th>1</th>\n",
       "      <th>2</th>\n",
       "      <th>3</th>\n",
       "      <th>4</th>\n",
       "    </tr>\n",
       "  </thead>\n",
       "  <tbody>\n",
       "    <tr>\n",
       "      <th>name</th>\n",
       "      <td>北京广能投资基金管理有限公司</td>\n",
       "      <td>宏源证券股份有限公司</td>\n",
       "      <td>国元证券股份有限公司</td>\n",
       "      <td>广发证券股份有限公司</td>\n",
       "      <td>长江证券股份有限公司</td>\n",
       "    </tr>\n",
       "    <tr>\n",
       "      <th>shortname</th>\n",
       "      <td>广能基金</td>\n",
       "      <td>宏源证券</td>\n",
       "      <td>国元证券</td>\n",
       "      <td>广发证券</td>\n",
       "      <td>长江证券</td>\n",
       "    </tr>\n",
       "    <tr>\n",
       "      <th>province</th>\n",
       "      <td>北京</td>\n",
       "      <td>新疆</td>\n",
       "      <td>安徽</td>\n",
       "      <td>广东</td>\n",
       "      <td>湖北</td>\n",
       "    </tr>\n",
       "    <tr>\n",
       "      <th>city</th>\n",
       "      <td>北京市</td>\n",
       "      <td>乌鲁木齐市</td>\n",
       "      <td>合肥市</td>\n",
       "      <td>广州市</td>\n",
       "      <td>武汉市</td>\n",
       "    </tr>\n",
       "    <tr>\n",
       "      <th>address</th>\n",
       "      <td>北京市朝阳区北四环中路27号院5号楼2712-2715A</td>\n",
       "      <td>新疆维吾尔自治区乌鲁木齐市文艺路233号宏源大厦</td>\n",
       "      <td>安徽省合肥市梅山路18号</td>\n",
       "      <td>广东省广州市黄埔区中新广州知识城腾飞一街2号618室</td>\n",
       "      <td>湖北省武汉市江汉区新华路特8号</td>\n",
       "    </tr>\n",
       "    <tr>\n",
       "      <th>phone</th>\n",
       "      <td>None</td>\n",
       "      <td>86-991-2301870</td>\n",
       "      <td>86-551-62207323,86-551-62207968</td>\n",
       "      <td>86-20-87555888,86-20-87550565,86-20-87550265</td>\n",
       "      <td>86-27-65799866,86-27-65799856</td>\n",
       "    </tr>\n",
       "    <tr>\n",
       "      <th>office</th>\n",
       "      <td>北京市朝阳区北四环中路27号院5号楼2712-2715A</td>\n",
       "      <td>新疆维吾尔自治区乌鲁木齐市文艺路233号宏源大厦</td>\n",
       "      <td>安徽省合肥市梅山路18号</td>\n",
       "      <td>广东省广州市天河区天河北路183-187号大都会广场40楼5楼,7楼,8楼,18楼,19楼,...</td>\n",
       "      <td>湖北省武汉市江汉区新华路特8号</td>\n",
       "    </tr>\n",
       "    <tr>\n",
       "      <th>website</th>\n",
       "      <td>www.gnfund.cn</td>\n",
       "      <td>www.hysec.com</td>\n",
       "      <td>www.gyzq.com.cn</td>\n",
       "      <td>www.gf.com.cn</td>\n",
       "      <td>www.cjsc.com</td>\n",
       "    </tr>\n",
       "    <tr>\n",
       "      <th>chairman</th>\n",
       "      <td>刘锡潜</td>\n",
       "      <td>冯戎</td>\n",
       "      <td>蔡咏</td>\n",
       "      <td>孙树明</td>\n",
       "      <td>尤习贵</td>\n",
       "    </tr>\n",
       "    <tr>\n",
       "      <th>manager</th>\n",
       "      <td>杨运成</td>\n",
       "      <td>冯戎</td>\n",
       "      <td>俞仕新</td>\n",
       "      <td>林治海</td>\n",
       "      <td>刘元瑞</td>\n",
       "    </tr>\n",
       "    <tr>\n",
       "      <th>reg_capital</th>\n",
       "      <td>10000</td>\n",
       "      <td>397241</td>\n",
       "      <td>336545</td>\n",
       "      <td>762109</td>\n",
       "      <td>552947</td>\n",
       "    </tr>\n",
       "    <tr>\n",
       "      <th>setup_date</th>\n",
       "      <td>20111031</td>\n",
       "      <td>19930525</td>\n",
       "      <td>19970606</td>\n",
       "      <td>19940121</td>\n",
       "      <td>19970724</td>\n",
       "    </tr>\n",
       "    <tr>\n",
       "      <th>end_date</th>\n",
       "      <td>None</td>\n",
       "      <td>None</td>\n",
       "      <td>None</td>\n",
       "      <td>None</td>\n",
       "      <td>None</td>\n",
       "    </tr>\n",
       "    <tr>\n",
       "      <th>employees</th>\n",
       "      <td>10</td>\n",
       "      <td>5347</td>\n",
       "      <td>3330</td>\n",
       "      <td>12103</td>\n",
       "      <td>6637</td>\n",
       "    </tr>\n",
       "    <tr>\n",
       "      <th>main_business</th>\n",
       "      <td>None</td>\n",
       "      <td>主要业务:代理买卖证券.</td>\n",
       "      <td>主营业务:经纪业务,自营投资业务,投行业务,资产管理业务,基金管理业务,期货业务,境外业务国...</td>\n",
       "      <td>主营业务:证券经纪</td>\n",
       "      <td>主营业务:证券经纪</td>\n",
       "    </tr>\n",
       "    <tr>\n",
       "      <th>org_code</th>\n",
       "      <td>584419680</td>\n",
       "      <td>228593068</td>\n",
       "      <td>731686376</td>\n",
       "      <td>126335439</td>\n",
       "      <td>700821272</td>\n",
       "    </tr>\n",
       "    <tr>\n",
       "      <th>credit_code</th>\n",
       "      <td>None</td>\n",
       "      <td>None</td>\n",
       "      <td>91340000731686376P</td>\n",
       "      <td>91440000126335439C</td>\n",
       "      <td>91420000700821272A</td>\n",
       "    </tr>\n",
       "  </tbody>\n",
       "</table>\n",
       "</div>"
      ],
      "text/plain": [
       "                                          0                         1  \\\n",
       "name                         北京广能投资基金管理有限公司                宏源证券股份有限公司   \n",
       "shortname                              广能基金                      宏源证券   \n",
       "province                                 北京                        新疆   \n",
       "city                                    北京市                     乌鲁木齐市   \n",
       "address        北京市朝阳区北四环中路27号院5号楼2712-2715A  新疆维吾尔自治区乌鲁木齐市文艺路233号宏源大厦   \n",
       "phone                                  None            86-991-2301870   \n",
       "office         北京市朝阳区北四环中路27号院5号楼2712-2715A  新疆维吾尔自治区乌鲁木齐市文艺路233号宏源大厦   \n",
       "website                       www.gnfund.cn             www.hysec.com   \n",
       "chairman                                刘锡潜                        冯戎   \n",
       "manager                                 杨运成                        冯戎   \n",
       "reg_capital                           10000                    397241   \n",
       "setup_date                         20111031                  19930525   \n",
       "end_date                               None                      None   \n",
       "employees                                10                      5347   \n",
       "main_business                          None              主要业务:代理买卖证券.   \n",
       "org_code                          584419680                 228593068   \n",
       "credit_code                            None                      None   \n",
       "\n",
       "                                                               2  \\\n",
       "name                                                  国元证券股份有限公司   \n",
       "shortname                                                   国元证券   \n",
       "province                                                      安徽   \n",
       "city                                                         合肥市   \n",
       "address                                             安徽省合肥市梅山路18号   \n",
       "phone                            86-551-62207323,86-551-62207968   \n",
       "office                                              安徽省合肥市梅山路18号   \n",
       "website                                          www.gyzq.com.cn   \n",
       "chairman                                                      蔡咏   \n",
       "manager                                                      俞仕新   \n",
       "reg_capital                                               336545   \n",
       "setup_date                                              19970606   \n",
       "end_date                                                    None   \n",
       "employees                                                   3330   \n",
       "main_business  主营业务:经纪业务,自营投资业务,投行业务,资产管理业务,基金管理业务,期货业务,境外业务国...   \n",
       "org_code                                               731686376   \n",
       "credit_code                                   91340000731686376P   \n",
       "\n",
       "                                                               3  \\\n",
       "name                                                  广发证券股份有限公司   \n",
       "shortname                                                   广发证券   \n",
       "province                                                      广东   \n",
       "city                                                         广州市   \n",
       "address                               广东省广州市黄埔区中新广州知识城腾飞一街2号618室   \n",
       "phone               86-20-87555888,86-20-87550565,86-20-87550265   \n",
       "office         广东省广州市天河区天河北路183-187号大都会广场40楼5楼,7楼,8楼,18楼,19楼,...   \n",
       "website                                            www.gf.com.cn   \n",
       "chairman                                                     孙树明   \n",
       "manager                                                      林治海   \n",
       "reg_capital                                               762109   \n",
       "setup_date                                              19940121   \n",
       "end_date                                                    None   \n",
       "employees                                                  12103   \n",
       "main_business                                          主营业务:证券经纪   \n",
       "org_code                                               126335439   \n",
       "credit_code                                   91440000126335439C   \n",
       "\n",
       "                                           4  \n",
       "name                              长江证券股份有限公司  \n",
       "shortname                               长江证券  \n",
       "province                                  湖北  \n",
       "city                                     武汉市  \n",
       "address                      湖北省武汉市江汉区新华路特8号  \n",
       "phone          86-27-65799866,86-27-65799856  \n",
       "office                       湖北省武汉市江汉区新华路特8号  \n",
       "website                         www.cjsc.com  \n",
       "chairman                                 尤习贵  \n",
       "manager                                  刘元瑞  \n",
       "reg_capital                           552947  \n",
       "setup_date                          19970724  \n",
       "end_date                                None  \n",
       "employees                               6637  \n",
       "main_business                      主营业务:证券经纪  \n",
       "org_code                           700821272  \n",
       "credit_code               91420000700821272A  "
      ]
     },
     "execution_count": 40,
     "metadata": {},
     "output_type": "execute_result"
    }
   ],
   "source": [
    "df.head().T"
   ]
  },
  {
   "cell_type": "markdown",
   "metadata": {},
   "source": [
    "### 关系——公募基金持仓数据"
   ]
  },
  {
   "cell_type": "markdown",
   "metadata": {},
   "source": [
    "获取公募基金持仓数据，**季度**更新\n",
    "积分：用户需要至少1000积分才可以调取，"
   ]
  },
  {
   "cell_type": "markdown",
   "metadata": {},
   "source": [
    "https://tushare.pro/document/2?doc_id=121"
   ]
  },
  {
   "cell_type": "markdown",
   "metadata": {},
   "source": [
    "|名称|类型|默认显示|描述|\n",
    "|--|--|--|--|\n",
    "|ts_code| str| Y| <font  color=#009688  >**TS基金代码**</font>|\n",
    "|ann_date|str |Y| 公告日期|\n",
    "|end_date|str |Y| 截止日期|\n",
    "|symbol|str| Y|  <font  color=#009688  >**股票代码**</font>|\n",
    "|mkv |float| Y| 持有股票市值(元)|\n",
    "|amount|float| Y| 持有股票数量（股）|\n",
    "|stk_mkv_ratio| float| Y| 占股票市值比|\n",
    "|stk_float_ratio| float| Y| 占流通股本比例|"
   ]
  },
  {
   "cell_type": "code",
   "execution_count": 41,
   "metadata": {
    "ExecuteTime": {
     "end_time": "2020-01-10T11:55:53.238567Z",
     "start_time": "2020-01-10T11:55:53.222565Z"
    }
   },
   "outputs": [],
   "source": [
    "fund_list = list(set(df_all.ts_code))"
   ]
  },
  {
   "cell_type": "code",
   "execution_count": 42,
   "metadata": {
    "ExecuteTime": {
     "end_time": "2020-01-10T11:56:05.080448Z",
     "start_time": "2020-01-10T11:56:05.072447Z"
    }
   },
   "outputs": [
    {
     "data": {
      "text/plain": [
       "11087"
      ]
     },
     "execution_count": 42,
     "metadata": {},
     "output_type": "execute_result"
    }
   ],
   "source": [
    "len(fund_list)"
   ]
  },
  {
   "cell_type": "code",
   "execution_count": 43,
   "metadata": {
    "ExecuteTime": {
     "end_time": "2020-01-10T13:22:08.948086Z",
     "start_time": "2020-01-10T13:22:08.941089Z"
    }
   },
   "outputs": [
    {
     "data": {
      "text/plain": [
       "['159805.OF', '161818.OF', '007368.OF', '005866.OF', '150029.SZ']"
      ]
     },
     "execution_count": 43,
     "metadata": {},
     "output_type": "execute_result"
    }
   ],
   "source": [
    "fund_list[:5]"
   ]
  },
  {
   "cell_type": "code",
   "execution_count": 44,
   "metadata": {
    "ExecuteTime": {
     "end_time": "2020-01-10T16:40:27.447912Z",
     "start_time": "2020-01-10T13:22:13.433674Z"
    }
   },
   "outputs": [
    {
     "name": "stdout",
     "output_type": "stream",
     "text": [
      "159805.OF _num_: 0\n",
      "004532.OF _num_: 50\n",
      "001502.OF _num_: 100\n",
      "501087.OF _num_: 150\n",
      "310388.OF _num_: 200\n",
      "002812.OF _num_: 250\n",
      "007387.OF _num_: 300\n",
      "004841.OF _num_: 350\n",
      "006295.OF _num_: 400\n",
      "007127.OF _num_: 450\n",
      "006050.OF _num_: 500\n",
      "005549.OF _num_: 550\n",
      "005229.OF _num_: 600\n",
      "160311.SZ _num_: 650\n",
      "003188.OF _num_: 700\n",
      "167704.OF _num_: 750\n",
      "500015.SH _num_: 800\n",
      "005301.OF _num_: 850\n",
      "000575.OF _num_: 900\n",
      "006391.OF _num_: 950\n",
      "001840.OF _num_: 1000\n",
      "002645.OF _num_: 1050\n",
      "002104.OF _num_: 1100\n",
      "006202.OF _num_: 1150\n",
      "005417.OF _num_: 1200\n",
      "159952.SZ _num_: 1250\n",
      "002739.OF _num_: 1300\n",
      "002376.OF _num_: 1350\n",
      "005576.OF _num_: 1400\n",
      "006195.OF _num_: 1450\n",
      "005490.OF _num_: 1500\n",
      "005800.OF _num_: 1550\n",
      "008512.OF _num_: 1600\n",
      "007946.OF _num_: 1650\n",
      "008192.OF _num_: 1700\n",
      "008018.OF _num_: 1750\n",
      "005019.OF _num_: 1800\n",
      "002057.OF _num_: 1850\n",
      "001105.OF _num_: 1900\n",
      "002986.OF _num_: 1950\n",
      "000298.OF _num_: 2000\n",
      "007120.OF _num_: 2050\n",
      "004648.OF _num_: 2100\n",
      "519779.OF _num_: 2150\n",
      "070015.OF _num_: 2200\n",
      "020003.OF _num_: 2250\n",
      "007920.OF _num_: 2300\n",
      "003396.OF _num_: 2350\n",
      "150086.SZ _num_: 2400\n",
      "150231.SZ _num_: 2450\n",
      "007404.OF _num_: 2500\n",
      "007647.OF _num_: 2550\n",
      "487016.OF _num_: 2600\n",
      "007923.OF _num_: 2650\n",
      "007477.OF _num_: 2700\n",
      "519763.OF _num_: 2750\n",
      "000977.OF _num_: 2800\n",
      "161027.OF _num_: 2850\n",
      "001769.OF _num_: 2900\n",
      "003048.OF _num_: 2950\n",
      "000902.OF _num_: 3000\n",
      "006626.OF _num_: 3050\n",
      "515870.SH _num_: 3100\n",
      "003949.OF _num_: 3150\n",
      "002746.OF _num_: 3200\n",
      "070017.OF _num_: 3250\n",
      "000333.OF _num_: 3300\n",
      "001396.OF _num_: 3350\n",
      "008038.OF _num_: 3400\n",
      "001244.OF _num_: 3450\n",
      "519132.OF _num_: 3500\n",
      "006492.OF _num_: 3550\n",
      "001776.OF _num_: 3600\n",
      "003592.OF _num_: 3650\n",
      "002328.OF _num_: 3700\n",
      "161213.SZ _num_: 3750\n",
      "002131.OF _num_: 3800\n",
      "519729.OF _num_: 3850\n",
      "001989.OF _num_: 3900\n",
      "007116.OF _num_: 3950\n",
      "007755.OF _num_: 4000\n",
      "470006.OF _num_: 4050\n",
      "005955.OF _num_: 4100\n",
      "005431.OF _num_: 4150\n",
      "530008.OF _num_: 4200\n",
      "000206.OF _num_: 4250\n",
      "003585.OF _num_: 4300\n",
      "003371.OF _num_: 4350\n",
      "159923.SZ _num_: 4400\n",
      "002358.OF _num_: 4450\n",
      "000412.OF _num_: 4500\n",
      "003586.OF _num_: 4550\n",
      "150162.OF _num_: 4600\n",
      "003228.OF _num_: 4650\n",
      "003340.OF _num_: 4700\n",
      "166802.OF _num_: 4750\n",
      "159960.SZ _num_: 4800\n",
      "008809.OF _num_: 4850\n",
      "000388.OF _num_: 4900\n",
      "270044.OF _num_: 4950\n",
      "007561.OF _num_: 5000\n",
      "040031.OF _num_: 5050\n",
      "003124.OF _num_: 5100\n",
      "001686.OF _num_: 5150\n",
      "001790.OF _num_: 5200\n",
      "005100.OF _num_: 5250\n",
      "002126.OF _num_: 5300\n",
      "002354.OF _num_: 5350\n",
      "003500.OF _num_: 5400\n",
      "000241.OF _num_: 5450\n",
      "001411.OF _num_: 5500\n",
      "0800151.OF _num_: 5550\n",
      "007496.OF _num_: 5600\n",
      "166903.OF _num_: 5650\n",
      "420001.OF _num_: 5700\n",
      "004974.OF _num_: 5750\n",
      "007801.OF _num_: 5800\n",
      "184691.SZ _num_: 5850\n",
      "007681.OF _num_: 5900\n",
      "008675.OF _num_: 5950\n",
      "162208.OF _num_: 6000\n",
      "007053.OF _num_: 6050\n",
      "003700.OF _num_: 6100\n",
      "519979.OF _num_: 6150\n",
      "001942.OF _num_: 6200\n",
      "005457.OF _num_: 6250\n",
      "007525.OF _num_: 6300\n",
      "510880.SH _num_: 6350\n",
      "000390.OF _num_: 6400\n",
      "000399.OF _num_: 6450\n",
      "002211.OF _num_: 6500\n",
      "519335.OF _num_: 6550\n",
      "519746.OF _num_: 6600\n",
      "000455.OF _num_: 6650\n",
      "004102.OF _num_: 6700\n",
      "007545.OF _num_: 6750\n",
      "128013.OF _num_: 6800\n",
      "002217.OF _num_: 6850\n",
      "513800.SH _num_: 6900\n",
      "003460.OF _num_: 6950\n",
      "1621081.OF _num_: 7000\n",
      "000477.OF _num_: 7050\n",
      "002885.OF _num_: 7100\n",
      "003616.OF _num_: 7150\n",
      "000033.OF _num_: 7200\n",
      "003170.OF _num_: 7250\n",
      "005852.OF _num_: 7300\n",
      "166014.OF _num_: 7350\n",
      "008468.OF _num_: 7400\n",
      "500007.SH _num_: 7450\n",
      "002932.OF _num_: 7500\n",
      "008532.OF _num_: 7550\n",
      "004840.OF _num_: 7600\n",
      "006346.OF _num_: 7650\n",
      "002710.OF _num_: 7700\n",
      "167503.OF _num_: 7750\n",
      "006696.OF _num_: 7800\n",
      "150115.SZ _num_: 7850\n",
      "003596.OF _num_: 7900\n",
      "000762.OF _num_: 7950\n",
      "410010.OF _num_: 8000\n",
      "003069.OF _num_: 8050\n",
      "1676011.OF _num_: 8100\n",
      "007168.OF _num_: 8150\n",
      "470009.OF _num_: 8200\n",
      "002210.OF _num_: 8250\n",
      "070007.OF _num_: 8300\n",
      "001559.OF _num_: 8350\n",
      "005025.OF _num_: 8400\n",
      "001678.OF _num_: 8450\n",
      "006324.OF _num_: 8500\n",
      "006771.OF _num_: 8550\n",
      "519221.OF _num_: 8600\n",
      "260104.OF _num_: 8650\n",
      "003640.OF _num_: 8700\n",
      "501078.SH _num_: 8750\n",
      "001781.OF _num_: 8800\n",
      "003788.OF _num_: 8850\n",
      "150039.SZ _num_: 8900\n",
      "310508.OF _num_: 8950\n",
      "539002.OF _num_: 9000\n",
      "008592.OF _num_: 9050\n",
      "460220.OF _num_: 9100\n",
      "008117.OF _num_: 9150\n",
      "003179.OF _num_: 9200\n",
      "007070.OF _num_: 9250\n",
      "000214.OF _num_: 9300\n",
      "000531.OF _num_: 9350\n",
      "004337.OF _num_: 9400\n",
      "008277.OF _num_: 9450\n",
      "000714.OF _num_: 9500\n",
      "000927.OF _num_: 9550\n",
      "004232.OF _num_: 9600\n",
      "001520.OF _num_: 9650\n",
      "1610142.OF _num_: 9700\n",
      "000650.OF _num_: 9750\n",
      "003897.OF _num_: 9800\n",
      "007753.OF _num_: 9850\n",
      "002462.OF _num_: 9900\n",
      "008462.OF _num_: 9950\n",
      "000987.OF _num_: 10000\n",
      "002729.OF _num_: 10050\n",
      "519195.OF _num_: 10100\n",
      "002692.OF _num_: 10150\n",
      "007583.OF _num_: 10200\n",
      "005898.OF _num_: 10250\n",
      "006711.OF _num_: 10300\n",
      "005090.OF _num_: 10350\n",
      "002788.OF _num_: 10400\n",
      "002184.OF _num_: 10450\n",
      "660010.OF _num_: 10500\n",
      "006768.OF _num_: 10550\n",
      "000632.OF _num_: 10600\n",
      "007143.OF _num_: 10650\n",
      "004717.OF _num_: 10700\n",
      "710001.OF _num_: 10750\n",
      "005710.OF _num_: 10800\n",
      "003432.OF _num_: 10850\n",
      "002946.OF _num_: 10900\n",
      "005113.OF _num_: 10950\n",
      "006393.OF _num_: 11000\n",
      "004569.OF _num_: 11050\n"
     ]
    }
   ],
   "source": [
    "get_data(fund_list,func = pro.fund_portfolio ,data_path = data_path ,filename=f'fund_portfolio.csv')"
   ]
  },
  {
   "cell_type": "markdown",
   "metadata": {},
   "source": [
    "## 构建数据模型 \n"
   ]
  },
  {
   "cell_type": "markdown",
   "metadata": {},
   "source": [
    "通过对获取的数据进行梳理，明确内部之间的关联关系，确定节点和关系和节点\n",
    "\n",
    "实体(节点)方面\n",
    "1. 省份\n",
    "2. 城市\n",
    "3. 公司(上市公司 \\ 基金管理公司 \\ 基金托管公司)\n",
    "4. 人（上市公司管理层）\n",
    "5. 基金\n",
    "6. 行业\n",
    "\n",
    "关系方面\n",
    "1. 城市 - [IN_PROVINCE] - > 省份 \n",
    "2. 公司(上市公司\\基金管理公司\\ 基金托管公司) - [IN_CITY] - > 城市\n",
    "4. 公司(上市公司) - [HAS_MANGER] - > 人（上市公司管理层）  [6类]\n",
    "5. 公司(上市公司) - [IN_INDUSTRY] - > 行业\n",
    "6. 基金  - [HAS_MANAGEMNET] - > 公司(基金管理公司)\n",
    "6. 基金  - [HAS_CUSTODIAN] - > 公司(基金托管公司)\n",
    "7. 基金  - [IN_PORTFOLIO] ->  公司(上市公司)\n",
    "\n",
    "初步确定数据模型如下。"
   ]
  },
  {
   "cell_type": "markdown",
   "metadata": {},
   "source": [
    "![shuju](../pictures/screenshot_2.png)"
   ]
  }
 ],
 "metadata": {
  "kernelspec": {
   "display_name": "Python 3",
   "language": "python",
   "name": "python3"
  },
  "language_info": {
   "codemirror_mode": {
    "name": "ipython",
    "version": 3
   },
   "file_extension": ".py",
   "mimetype": "text/x-python",
   "name": "python",
   "nbconvert_exporter": "python",
   "pygments_lexer": "ipython3",
   "version": "3.6.9"
  },
  "toc": {
   "nav_menu": {},
   "number_sections": true,
   "sideBar": true,
   "skip_h1_title": false,
   "toc_cell": false,
   "toc_position": {},
   "toc_section_display": "block",
   "toc_window_display": false
  }
 },
 "nbformat": 4,
 "nbformat_minor": 1
}
