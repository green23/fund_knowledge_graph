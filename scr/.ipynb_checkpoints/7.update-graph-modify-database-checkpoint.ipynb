{
 "cells": [
  {
   "cell_type": "markdown",
   "metadata": {},
   "source": [
    "# 金融 证券 图谱搭建"
   ]
  },
  {
   "cell_type": "markdown",
   "metadata": {},
   "source": [
    "对于，图谱的更新我们采取 neo4j APOC 中提供的功能——`apoc.periodic.iterate` 过程，批量更新图谱。\n",
    "\n",
    "具体用法可参考下面的网址。\n",
    "\n",
    "网址：https://neo4j.com/docs/labs/apoc/3.5/graph-updates/periodic-execution/"
   ]
  },
  {
   "cell_type": "markdown",
   "metadata": {},
   "source": [
    "在这里，我们尽可能覆盖实际业务中更新场景\n",
    "\n",
    "- 节点\n",
    "    - 节点标签 labels （新增/删除）\n",
    "    - 节点属性 properities（新增/修改）\n",
    "\n",
    "- 关系\n",
    "    - 关系 （新增）\n",
    "    - 关系属性 properities（新增/修改"
   ]
  },
  {
   "cell_type": "markdown",
   "metadata": {},
   "source": [
    "## 更新图谱"
   ]
  },
  {
   "cell_type": "code",
   "execution_count": 80,
   "metadata": {
    "ExecuteTime": {
     "end_time": "2020-01-28T05:48:19.517559Z",
     "start_time": "2020-01-28T05:48:19.514553Z"
    }
   },
   "outputs": [],
   "source": [
    "import os\n",
    "from py2neo import Graph\n",
    "import warnings\n",
    "warnings.filterwarnings('ignore')"
   ]
  },
  {
   "cell_type": "code",
   "execution_count": 81,
   "metadata": {},
   "outputs": [],
   "source": [
    "def check_result(result):\n",
    "    for c in result :\n",
    "        print(c)"
   ]
  },
  {
   "cell_type": "code",
   "execution_count": 82,
   "metadata": {},
   "outputs": [],
   "source": [
    "graph = Graph(\n",
    "    \"http://localhost:7474\",\n",
    "    usernmae=\"neo4j\",\n",
    "    password=\"Neo4j\"\n",
    ")"
   ]
  },
  {
   "cell_type": "markdown",
   "metadata": {},
   "source": [
    "### 更新节点：公司"
   ]
  },
  {
   "cell_type": "code",
   "execution_count": 83,
   "metadata": {},
   "outputs": [],
   "source": [
    "query_node_company = \"\"\"\n",
    "CALL apoc.periodic.iterate(\n",
    "    \"LOAD CSV WITH HEADERS FROM 'file:///media/kevin/storage1/finance_graph/data_20200204/gap/node_companies.csv' AS row return row\",\n",
    "    \"with row.fullname as company,\n",
    "          row.name as short_name,\n",
    "          row.symbol as symbol,\n",
    "          row.market as market,\n",
    "          row.exchange as exchange,\n",
    "          row.list_status as list_status,\n",
    "          row.list_date as list_date,\n",
    "          row.delist_date as delist_date,\n",
    "          row.setup_date as setup_date,\n",
    "          row.label as label\n",
    "    MERGE (a:COMPANY {company:company})\n",
    "    SET a.short_name = (CASE WHEN short_name <> 'NotChange' THEN short_name ELSE a.short_name END),\n",
    "        a.symbol = (CASE WHEN symbol <> 'NotChange' THEN symbol ELSE a.symbol END),\n",
    "        a.market = (CASE WHEN market <> 'NotChange' THEN market ELSE a.market END),\n",
    "        a.exchange = (CASE WHEN exchange <> 'NotChange' THEN exchange ELSE a.exchange  END),\n",
    "        a.list_status = (CASE WHEN list_status <> 'NotChange' THEN list_status ELSE a.list_status END),\n",
    "        a.list_date = (CASE WHEN list_date <> 'NotChange' THEN toFloat(list_date) ELSE a.list_date  END),\n",
    "        a.delist_date = (CASE WHEN delist_date <> 'NotChange' THEN toFloat(delist_date) ELSE a.delist_date END),\n",
    "        a.setup_date = (CASE WHEN setup_date <> 'NotChange' THEN setup_date ELSE a.setup_date END)\n",
    "    REMOVE a:LISTED_COMPANY:FUND_CUSTODIAN:FUND_MANAGER    \n",
    "    FOREACH(t in CASE WHEN 'LISTED_COMPANY' in split(label,';') THEN 1 ELSE null END | SET a:LISTED_COMPANY )\n",
    "    FOREACH(t in CASE WHEN 'FUND_CUSTODIAN' in split(label,';') THEN 1 ELSE null END | SET a:FUND_CUSTODIAN )\n",
    "    FOREACH(t in CASE WHEN 'FUND_MANAGER' in split(label,';') THEN 1 ELSE null END | SET a:FUND_MANAGER )\n",
    "    RETURN a\n",
    "    \",\n",
    "    {batchSize:10000, parallel:true})\n",
    "    \"\"\""
   ]
  },
  {
   "cell_type": "code",
   "execution_count": 84,
   "metadata": {},
   "outputs": [],
   "source": [
    "result = graph.run(query_node_company)"
   ]
  },
  {
   "cell_type": "code",
   "execution_count": 85,
   "metadata": {},
   "outputs": [
    {
     "name": "stdout",
     "output_type": "stream",
     "text": [
      "<Record batches=1 total=49 timeTaken=2 committedOperations=49 failedOperations=0 failedBatches=0 retries=0 errorMessages={} batch={'total': 1, 'committed': 1, 'failed': 0, 'errors': {}} operations={'total': 49, 'committed': 49, 'failed': 0, 'errors': {}} wasTerminated=False>\n"
     ]
    }
   ],
   "source": [
    "check_result(result)"
   ]
  },
  {
   "cell_type": "markdown",
   "metadata": {},
   "source": [
    "### 更新节点：行业"
   ]
  },
  {
   "cell_type": "code",
   "execution_count": 86,
   "metadata": {},
   "outputs": [],
   "source": [
    "query_node_industries = \"\"\"\n",
    "CALL apoc.periodic.iterate(\n",
    "    \"LOAD CSV WITH HEADERS FROM 'file:///media/kevin/storage1/finance_graph/data_20200204/gap/node_industries.csv' AS row return row\",\n",
    "    \"with row.industry as industry,\n",
    "          row.label as label\n",
    "    MERGE (a:INDUSTRY {industry:industry})\n",
    "    RETURN a\n",
    "    \",\n",
    "    {batchSize:10000, parallel:true})\n",
    "    \"\"\""
   ]
  },
  {
   "cell_type": "code",
   "execution_count": 87,
   "metadata": {},
   "outputs": [],
   "source": [
    "result = graph.run(query_node_industries)"
   ]
  },
  {
   "cell_type": "code",
   "execution_count": 88,
   "metadata": {},
   "outputs": [
    {
     "name": "stdout",
     "output_type": "stream",
     "text": [
      "<Record batches=1 total=0 timeTaken=0 committedOperations=0 failedOperations=0 failedBatches=0 retries=0 errorMessages={} batch={'total': 1, 'committed': 1, 'failed': 0, 'errors': {}} operations={'total': 0, 'committed': 0, 'failed': 0, 'errors': {}} wasTerminated=False>\n"
     ]
    }
   ],
   "source": [
    "check_result(result)"
   ]
  },
  {
   "cell_type": "code",
   "execution_count": null,
   "metadata": {},
   "outputs": [],
   "source": []
  },
  {
   "cell_type": "markdown",
   "metadata": {},
   "source": [
    "### 更新节点：城市"
   ]
  },
  {
   "cell_type": "code",
   "execution_count": 89,
   "metadata": {},
   "outputs": [],
   "source": [
    "query_node_city = \"\"\"\n",
    "CALL apoc.periodic.iterate(\n",
    "    \"LOAD CSV WITH HEADERS FROM 'file:///media/kevin/storage1/finance_graph/data_20200204/gap/node_city.csv' AS row return row\",\n",
    "    \"with row.city as city,\n",
    "          row.label as label\n",
    "    MERGE (a:CITY {city:city})\n",
    "    RETURN a\n",
    "    \",\n",
    "    {batchSize:10000, parallel:true})\n",
    "    \"\"\""
   ]
  },
  {
   "cell_type": "code",
   "execution_count": 90,
   "metadata": {},
   "outputs": [],
   "source": [
    "result = graph.run(query_node_city)"
   ]
  },
  {
   "cell_type": "code",
   "execution_count": 91,
   "metadata": {},
   "outputs": [
    {
     "name": "stdout",
     "output_type": "stream",
     "text": [
      "<Record batches=1 total=0 timeTaken=0 committedOperations=0 failedOperations=0 failedBatches=0 retries=0 errorMessages={} batch={'total': 1, 'committed': 1, 'failed': 0, 'errors': {}} operations={'total': 0, 'committed': 0, 'failed': 0, 'errors': {}} wasTerminated=False>\n"
     ]
    }
   ],
   "source": [
    "check_result(result)"
   ]
  },
  {
   "cell_type": "markdown",
   "metadata": {},
   "source": [
    "### 更新节点：省份"
   ]
  },
  {
   "cell_type": "code",
   "execution_count": 92,
   "metadata": {},
   "outputs": [],
   "source": [
    "query_node_province = \"\"\"\n",
    "CALL apoc.periodic.iterate(\n",
    "    \"LOAD CSV WITH HEADERS FROM 'file:///media/kevin/storage1/finance_graph/data_20200204/gap/node_province.csv' AS row return row\",\n",
    "    \"with row.province as province,\n",
    "          row.label as label\n",
    "    MERGE (a:PROVINCE {province:province})\n",
    "    RETURN a\n",
    "    \",\n",
    "    {batchSize:10000, parallel:true})\n",
    "    \"\"\""
   ]
  },
  {
   "cell_type": "code",
   "execution_count": 93,
   "metadata": {},
   "outputs": [],
   "source": [
    "result = graph.run(query_node_province)"
   ]
  },
  {
   "cell_type": "code",
   "execution_count": 94,
   "metadata": {},
   "outputs": [
    {
     "name": "stdout",
     "output_type": "stream",
     "text": [
      "<Record batches=1 total=0 timeTaken=0 committedOperations=0 failedOperations=0 failedBatches=0 retries=0 errorMessages={} batch={'total': 1, 'committed': 1, 'failed': 0, 'errors': {}} operations={'total': 0, 'committed': 0, 'failed': 0, 'errors': {}} wasTerminated=False>\n"
     ]
    }
   ],
   "source": [
    "check_result(result)"
   ]
  },
  {
   "cell_type": "markdown",
   "metadata": {},
   "source": [
    "### 更新节点：基金"
   ]
  },
  {
   "cell_type": "code",
   "execution_count": 95,
   "metadata": {},
   "outputs": [],
   "source": [
    "query_node_funds = \"\"\"\n",
    "CALL apoc.periodic.iterate(\n",
    "    \"LOAD CSV WITH HEADERS FROM 'file:///media/kevin/storage1/finance_graph/data_20200204/gap/node_funds.csv' AS row return row\",\n",
    "    \"with row.fund as fund_code,\n",
    "          row.name as name,\n",
    "          row.fund_type as fund_type,\n",
    "          row.invest_type as invest_type,\n",
    "          row.type as type,\n",
    "          row.benchmark as benchmark,\n",
    "          row.market as market,\n",
    "          row.found_date as found_date,\n",
    "          row.delist_date as delist_date,\n",
    "          row.status as status,\n",
    "          row.label as label\n",
    "    MERGE (a:FUND {fund_code:fund_code})\n",
    "    SET a.name = (CASE WHEN name <> 'NotChange' THEN name ELSE a.name END),\n",
    "        a.fund_type = (CASE WHEN fund_type <> 'NotChange' THEN fund_type ELSE a.fund_type END),\n",
    "        a.invest_type = (CASE WHEN invest_type <> 'NotChange' THEN invest_type ELSE a.invest_type END),\n",
    "        a.type = (CASE WHEN type <> 'NotChange' THEN type ELSE a.type  END),\n",
    "        a.benchmark = (CASE WHEN benchmark <> 'NotChange' THEN benchmark ELSE a.benchmark END),\n",
    "        a.market = (CASE WHEN market <> 'NotChange' THEN market ELSE a.market END),\n",
    "        a.found_date = (CASE WHEN found_date <> 'NotChange' THEN toFloat(found_date) ELSE a.found_date  END),\n",
    "        a.delist_date = (CASE WHEN delist_date <> 'NotChange' THEN toFloat(delist_date) ELSE a.delist_date  END),\n",
    "        a.status = (CASE WHEN status <> 'NotChange' THEN status ELSE a.status END)\n",
    "    RETURN a\n",
    "    \",\n",
    "    {batchSize:10000, parallel:true})\n",
    "    \"\"\""
   ]
  },
  {
   "cell_type": "code",
   "execution_count": 96,
   "metadata": {},
   "outputs": [],
   "source": [
    "result = graph.run(query_node_funds)"
   ]
  },
  {
   "cell_type": "code",
   "execution_count": 97,
   "metadata": {
    "scrolled": true
   },
   "outputs": [
    {
     "name": "stdout",
     "output_type": "stream",
     "text": [
      "<Record batches=1 total=378 timeTaken=3 committedOperations=378 failedOperations=0 failedBatches=0 retries=0 errorMessages={} batch={'total': 1, 'committed': 1, 'failed': 0, 'errors': {}} operations={'total': 378, 'committed': 378, 'failed': 0, 'errors': {}} wasTerminated=False>\n"
     ]
    }
   ],
   "source": [
    "check_result(result)"
   ]
  },
  {
   "cell_type": "code",
   "execution_count": null,
   "metadata": {},
   "outputs": [],
   "source": []
  },
  {
   "cell_type": "markdown",
   "metadata": {},
   "source": [
    "### 更新节点：人"
   ]
  },
  {
   "cell_type": "code",
   "execution_count": 98,
   "metadata": {},
   "outputs": [],
   "source": [
    "query_node_managers = \"\"\"\n",
    "CALL apoc.periodic.iterate(\n",
    "    \"LOAD CSV WITH HEADERS FROM 'file:///media/kevin/storage1/finance_graph/data_20200204/gap/node_managers.csv' AS row return row\",\n",
    "    \"with row.hash_cust as manager_id,\n",
    "          row.name as name,\n",
    "          row.gender as gender,\n",
    "          row.edu as edu,\n",
    "          row.national as national,\n",
    "          row.birthday as birthday,\n",
    "          row.label as label\n",
    "    MERGE (a:MANAGER {manager_id:manager_id})\n",
    "    SET a.name = (CASE WHEN name <> 'NotChange' THEN name ELSE a.name END),\n",
    "        a.gender = (CASE WHEN gender <> 'NotChange' THEN gender ELSE a.gender END),\n",
    "        a.edu = (CASE WHEN edu <> 'NotChange' THEN edu ELSE a.edu END),\n",
    "        a.national = (CASE WHEN national <> 'NotChange' THEN national ELSE a.national  END),\n",
    "        a.birthday = (CASE WHEN birthday <> 'NotChange' THEN toFloat(birthday) ELSE a.birthday END)\n",
    "    RETURN a\n",
    "    \",\n",
    "    {batchSize:10000, parallel:true})\n",
    "    \"\"\""
   ]
  },
  {
   "cell_type": "code",
   "execution_count": 99,
   "metadata": {},
   "outputs": [],
   "source": [
    "result = graph.run(query_node_managers)"
   ]
  },
  {
   "cell_type": "code",
   "execution_count": 100,
   "metadata": {
    "scrolled": false
   },
   "outputs": [
    {
     "name": "stdout",
     "output_type": "stream",
     "text": [
      "<Record batches=1 total=0 timeTaken=0 committedOperations=0 failedOperations=0 failedBatches=0 retries=0 errorMessages={} batch={'total': 1, 'committed': 1, 'failed': 0, 'errors': {}} operations={'total': 0, 'committed': 0, 'failed': 0, 'errors': {}} wasTerminated=False>\n"
     ]
    }
   ],
   "source": [
    "check_result(result)"
   ]
  },
  {
   "cell_type": "code",
   "execution_count": null,
   "metadata": {},
   "outputs": [],
   "source": []
  },
  {
   "cell_type": "code",
   "execution_count": null,
   "metadata": {},
   "outputs": [],
   "source": []
  },
  {
   "cell_type": "markdown",
   "metadata": {},
   "source": [
    "### 更新关系：城市-->省份"
   ]
  },
  {
   "cell_type": "code",
   "execution_count": 101,
   "metadata": {},
   "outputs": [],
   "source": [
    "query_rel_city_in_province = \"\"\"\n",
    "CALL apoc.periodic.iterate(\n",
    "    \"LOAD CSV WITH HEADERS FROM 'file:///media/kevin/storage1/finance_graph/data_20200204/gap/rel_city_in_province.csv' AS row return row\",\n",
    "    \"with row.city as city,\n",
    "          row.province as province,\n",
    "          row.type as type\n",
    "    MERGE (a:CITY {city:city})\n",
    "    MERGE (b:PROVINCE {province:province})\n",
    "    MERGE (a)-[r:IN_PROVINCE]->(b)\n",
    "    RETURN a,b,r\n",
    "    \",\n",
    "    {batchSize:10000, parallel:true})\n",
    "    \"\"\""
   ]
  },
  {
   "cell_type": "code",
   "execution_count": 102,
   "metadata": {},
   "outputs": [],
   "source": [
    "result = graph.run(query_rel_city_in_province)"
   ]
  },
  {
   "cell_type": "code",
   "execution_count": 103,
   "metadata": {
    "scrolled": false
   },
   "outputs": [
    {
     "name": "stdout",
     "output_type": "stream",
     "text": [
      "<Record batches=1 total=0 timeTaken=0 committedOperations=0 failedOperations=0 failedBatches=0 retries=0 errorMessages={} batch={'total': 1, 'committed': 1, 'failed': 0, 'errors': {}} operations={'total': 0, 'committed': 0, 'failed': 0, 'errors': {}} wasTerminated=False>\n"
     ]
    }
   ],
   "source": [
    "check_result(result)"
   ]
  },
  {
   "cell_type": "code",
   "execution_count": null,
   "metadata": {},
   "outputs": [],
   "source": []
  },
  {
   "cell_type": "markdown",
   "metadata": {},
   "source": [
    "### 更新关系：公司-->城市"
   ]
  },
  {
   "cell_type": "code",
   "execution_count": 104,
   "metadata": {},
   "outputs": [],
   "source": [
    "query_rel_company_in_city = \"\"\"\n",
    "CALL apoc.periodic.iterate(\n",
    "    \"LOAD CSV WITH HEADERS FROM 'file:///media/kevin/storage1/finance_graph/data_20200204/gap/rel_company_in_city.csv' AS row return row\",\n",
    "    \"with row.fullname as company,\n",
    "          row.city as city,\n",
    "          row.type as type\n",
    "    MERGE (a:COMPANY {company:company})          \n",
    "    MERGE (b:CITY {city:city})\n",
    "    MERGE (a)-[r:IN_CITY]->(b)\n",
    "    RETURN a,b,r\n",
    "    \",\n",
    "    {batchSize:10000, parallel:true})\n",
    "    \"\"\""
   ]
  },
  {
   "cell_type": "code",
   "execution_count": 105,
   "metadata": {},
   "outputs": [],
   "source": [
    "result = graph.run(query_rel_company_in_city)"
   ]
  },
  {
   "cell_type": "code",
   "execution_count": 106,
   "metadata": {
    "scrolled": true
   },
   "outputs": [
    {
     "name": "stdout",
     "output_type": "stream",
     "text": [
      "<Record batches=1 total=0 timeTaken=0 committedOperations=0 failedOperations=0 failedBatches=0 retries=0 errorMessages={} batch={'total': 1, 'committed': 1, 'failed': 0, 'errors': {}} operations={'total': 0, 'committed': 0, 'failed': 0, 'errors': {}} wasTerminated=False>\n"
     ]
    }
   ],
   "source": [
    "check_result(result)"
   ]
  },
  {
   "cell_type": "code",
   "execution_count": null,
   "metadata": {},
   "outputs": [],
   "source": []
  },
  {
   "cell_type": "markdown",
   "metadata": {},
   "source": [
    "### 更新关系：股票-->行业"
   ]
  },
  {
   "cell_type": "code",
   "execution_count": 107,
   "metadata": {},
   "outputs": [],
   "source": [
    "query_rel_share_in_industry = \"\"\"\n",
    "CALL apoc.periodic.iterate(\n",
    "    \"LOAD CSV WITH HEADERS FROM 'file:///media/kevin/storage1/finance_graph/data_20200204/gap/rel_share_in_industry.csv' AS row return row\",\n",
    "    \"with row.fullname as company,\n",
    "          row.industry as industry,\n",
    "          row.type as type\n",
    "    MERGE (a:COMPANY {company:company})          \n",
    "    MERGE (b:INDUSTRY {industry:industry})\n",
    "    MERGE (a)-[r:IN_INDUSTRY]->(b)\n",
    "    RETURN a,b,r\n",
    "    \",\n",
    "    {batchSize:10000, parallel:true})\n",
    "    \"\"\""
   ]
  },
  {
   "cell_type": "code",
   "execution_count": 108,
   "metadata": {},
   "outputs": [],
   "source": [
    "result = graph.run(query_rel_share_in_industry)"
   ]
  },
  {
   "cell_type": "code",
   "execution_count": 109,
   "metadata": {
    "scrolled": true
   },
   "outputs": [
    {
     "name": "stdout",
     "output_type": "stream",
     "text": [
      "<Record batches=1 total=0 timeTaken=0 committedOperations=0 failedOperations=0 failedBatches=0 retries=0 errorMessages={} batch={'total': 1, 'committed': 1, 'failed': 0, 'errors': {}} operations={'total': 0, 'committed': 0, 'failed': 0, 'errors': {}} wasTerminated=False>\n"
     ]
    }
   ],
   "source": [
    "check_result(result)"
   ]
  },
  {
   "cell_type": "code",
   "execution_count": null,
   "metadata": {},
   "outputs": [],
   "source": []
  },
  {
   "cell_type": "code",
   "execution_count": null,
   "metadata": {},
   "outputs": [],
   "source": []
  },
  {
   "cell_type": "code",
   "execution_count": null,
   "metadata": {},
   "outputs": [],
   "source": []
  },
  {
   "cell_type": "code",
   "execution_count": null,
   "metadata": {},
   "outputs": [],
   "source": []
  },
  {
   "cell_type": "markdown",
   "metadata": {},
   "source": [
    "### 更新关系：公司（上市公司）--> 人(董事高管)"
   ]
  },
  {
   "cell_type": "markdown",
   "metadata": {},
   "source": [
    "对于 上市公司 高管情况，其实有另外一种 处理方式，就是参照上面的处理方式把 6 类关系分别拆开用不同的文件进行更新。\n",
    "这里没有做拆分，选择用 `cypher` 判断关系类型更新，速度稍慢。"
   ]
  },
  {
   "cell_type": "code",
   "execution_count": 113,
   "metadata": {},
   "outputs": [],
   "source": [
    "query_rel_listed_company_has_manager = \"\"\"\n",
    "CALL apoc.periodic.iterate(\n",
    "    \"LOAD CSV WITH HEADERS FROM 'file:///media/kevin/storage1/finance_graph/data_20200204/gap/rel_listed_company_has_manager.csv' AS row return row\",\n",
    "    \"with row.fullname as company,\n",
    "          row.hash_cust as manager_id,\n",
    "          row.begin_date as begin_date,\n",
    "          row.end_date as end_date,\n",
    "          row.title as title,\n",
    "          row.lev as type\n",
    "    MERGE (a:COMPANY {company:company})          \n",
    "    MERGE (b:MANAGER {manager_id:manager_id})\n",
    "    FOREACH(t in CASE WHEN type = '董事会成员' THEN 1 ELSE null END | MERGE (a)-[r:董事会成员 {title:title,begin_date:toFloat(begin_date)}]->(b) \n",
    "                                                                    SET r.end_date = (CASE WHEN end_date <> 'NotChange' THEN toFloat(end_date) ELSE r.end_date END)\n",
    "                                                                    )\n",
    "                                                                    \n",
    "    FOREACH(t in CASE WHEN type = '高管' THEN 1 ELSE null END | MERGE (a)-[r:高管 {title:title,begin_date:toFloat(begin_date)}]->(b) \n",
    "                                                                    SET r.end_date = (CASE WHEN end_date <> 'NotChange' THEN toFloat(end_date) ELSE r.end_date END)\n",
    "                                                                    )\n",
    "    FOREACH(t in CASE WHEN type = '委员会成员' THEN 1 ELSE null END | MERGE (a)-[r:委员会成员 {title:title,begin_date:toFloat(begin_date)}]->(b) \n",
    "                                                                    SET r.end_date = (CASE WHEN end_date <> 'NotChange' THEN toFloat(end_date) ELSE r.end_date END)\n",
    "                                                                    )\n",
    "    FOREACH(t in CASE WHEN type = '监事' THEN 1 ELSE null END | MERGE (a)-[r:监事 {title:title,begin_date:toFloat(begin_date)}]->(b) \n",
    "                                                                    SET r.end_date = (CASE WHEN end_date <> 'NotChange' THEN toFloat(end_date) ELSE r.end_date END)\n",
    "                                                                    )\n",
    "    FOREACH(t in CASE WHEN type = '核心技术人员' THEN 1 ELSE null END | MERGE (a)-[r:核心技术人员 {title:title,begin_date:toFloat(begin_date)}]->(b) \n",
    "                                                                    SET r.end_date = (CASE WHEN end_date <> 'NotChange' THEN toFloat(end_date) ELSE r.end_date END)\n",
    "                                                                    )\n",
    "    FOREACH(t in CASE WHEN type = '其他' THEN 1 ELSE null END | MERGE (a)-[r:其他 {title:title,begin_date:toFloat(begin_date)}]->(b) \n",
    "                                                                    SET r.end_date = (CASE WHEN end_date <> 'NotChange' THEN toFloat(end_date) ELSE r.end_date END)\n",
    "                                                                    )\n",
    "    RETURN a,b\n",
    "    \",\n",
    "    {batchSize:1000, parallel:false})\n",
    "    \"\"\""
   ]
  },
  {
   "cell_type": "code",
   "execution_count": 114,
   "metadata": {},
   "outputs": [],
   "source": [
    "# 在关系匹配时，先对图数据库， 添加索引，提高更新效率\n",
    "result = graph.run(query_rel_listed_company_has_manager)"
   ]
  },
  {
   "cell_type": "code",
   "execution_count": 115,
   "metadata": {
    "scrolled": false
   },
   "outputs": [
    {
     "name": "stdout",
     "output_type": "stream",
     "text": [
      "<Record batches=2 total=1251 timeTaken=0 committedOperations=1251 failedOperations=0 failedBatches=0 retries=0 errorMessages={} batch={'total': 2, 'committed': 2, 'failed': 0, 'errors': {}} operations={'total': 1251, 'committed': 1251, 'failed': 0, 'errors': {}} wasTerminated=False>\n"
     ]
    }
   ],
   "source": [
    "check_result(result)"
   ]
  },
  {
   "cell_type": "code",
   "execution_count": null,
   "metadata": {},
   "outputs": [],
   "source": []
  },
  {
   "cell_type": "markdown",
   "metadata": {},
   "source": [
    "### 更新关系：公募基金 --> 托管人"
   ]
  },
  {
   "cell_type": "code",
   "execution_count": 116,
   "metadata": {},
   "outputs": [],
   "source": [
    "query_rel_fund_has_custodian = \"\"\"\n",
    "CALL apoc.periodic.iterate(\n",
    "    \"LOAD CSV WITH HEADERS FROM 'file:///media/kevin/storage1/finance_graph/data_20200204/gap/rel_fund_has_custodian.csv' AS row return row\",\n",
    "    \"with row.fund as fund_code,\n",
    "          row.fullname as company,\n",
    "          row.type as type\n",
    "    MERGE (a:FUND {fund_code:fund_code})          \n",
    "    MERGE (b:COMPANY {company:company})\n",
    "    MERGE (a)-[r:HAS_CUSTODIAN]->(b)\n",
    "    RETURN a,b,r\n",
    "    \",\n",
    "    {batchSize:1000, parallel:true})\n",
    "    \"\"\""
   ]
  },
  {
   "cell_type": "code",
   "execution_count": 117,
   "metadata": {},
   "outputs": [],
   "source": [
    "result = graph.run(query_rel_fund_has_custodian)"
   ]
  },
  {
   "cell_type": "code",
   "execution_count": 118,
   "metadata": {
    "scrolled": false
   },
   "outputs": [
    {
     "name": "stdout",
     "output_type": "stream",
     "text": [
      "<Record batches=1 total=0 timeTaken=0 committedOperations=0 failedOperations=0 failedBatches=0 retries=0 errorMessages={} batch={'total': 1, 'committed': 1, 'failed': 0, 'errors': {}} operations={'total': 0, 'committed': 0, 'failed': 0, 'errors': {}} wasTerminated=False>\n"
     ]
    }
   ],
   "source": [
    "check_result(result)"
   ]
  },
  {
   "cell_type": "code",
   "execution_count": null,
   "metadata": {},
   "outputs": [],
   "source": []
  },
  {
   "cell_type": "markdown",
   "metadata": {},
   "source": [
    "### 更新关系：公募基金 --> 管理人"
   ]
  },
  {
   "cell_type": "code",
   "execution_count": 119,
   "metadata": {},
   "outputs": [],
   "source": [
    "query_rel_fund_has_management = \"\"\"\n",
    "CALL apoc.periodic.iterate(\n",
    "    \"LOAD CSV WITH HEADERS FROM 'file:///media/kevin/storage1/finance_graph/data_20200204/gap/rel_fund_has_management.csv' AS row return row\",\n",
    "    \"with row.fund as fund_code,\n",
    "          row.fullname as company,\n",
    "          row.type as type\n",
    "    MERGE (a:FUND {fund_code:fund_code})          \n",
    "    MERGE (b:COMPANY {company:company})\n",
    "    MERGE (a)-[r:HAS_MANAGEMENT]->(b)\n",
    "    RETURN a,b,r\n",
    "    \",\n",
    "    {batchSize:1000, parallel:true})\n",
    "    \"\"\""
   ]
  },
  {
   "cell_type": "code",
   "execution_count": 120,
   "metadata": {},
   "outputs": [],
   "source": [
    "result = graph.run(query_rel_fund_has_custodian)"
   ]
  },
  {
   "cell_type": "code",
   "execution_count": 121,
   "metadata": {
    "scrolled": false
   },
   "outputs": [
    {
     "name": "stdout",
     "output_type": "stream",
     "text": [
      "<Record batches=1 total=0 timeTaken=0 committedOperations=0 failedOperations=0 failedBatches=0 retries=0 errorMessages={} batch={'total': 1, 'committed': 1, 'failed': 0, 'errors': {}} operations={'total': 0, 'committed': 0, 'failed': 0, 'errors': {}} wasTerminated=False>\n"
     ]
    }
   ],
   "source": [
    "check_result(result)"
   ]
  },
  {
   "cell_type": "code",
   "execution_count": null,
   "metadata": {},
   "outputs": [],
   "source": []
  },
  {
   "cell_type": "markdown",
   "metadata": {},
   "source": [
    "### 更新关系：公募基金持仓数据"
   ]
  },
  {
   "cell_type": "code",
   "execution_count": 122,
   "metadata": {},
   "outputs": [],
   "source": [
    "\n",
    "query_rel_fund_listed_company_portfolio = \"\"\"\n",
    "CALL apoc.periodic.iterate(\n",
    "    \"LOAD CSV WITH HEADERS FROM 'file:///media/kevin/storage1/finance_graph/data_20200204/gap/rel_fund_listed_company_portfolio.csv' AS row return row\",\n",
    "    \"with row.fund as fund_code,\n",
    "          row.fullname as company,\n",
    "          row.ann_date as ann_date,\n",
    "          row.end_date as end_date,\n",
    "          row.mkv as mkv,\n",
    "          row.amount as amount,\n",
    "          row.stk_mkv_ratio as stk_mkv_ratio,\n",
    "          row.stk_float_ratio as stk_float_ratio,\n",
    "          row.type as type\n",
    "    MERGE (a:FUND {fund_code:fund_code})          \n",
    "    MERGE (b:COMPANY {company:company})\n",
    "    MERGE (a)-[r:IN_PORTFOLIO]->(b)\n",
    "        SET r.ann_date = (CASE WHEN ann_date <> 'NotChange' THEN toFloat(ann_date) ELSE r.ann_date END)\n",
    "        SET r.end_date = (CASE WHEN end_date <> 'NotChange' THEN toFloat(end_date) ELSE r.end_date END)\n",
    "        SET r.mkv = (CASE WHEN mkv <> 'NotChange' THEN toFloat(mkv) ELSE r.mkv END)        \n",
    "        SET r.amount = (CASE WHEN amount <> 'NotChange' THEN toFloat(amount) ELSE r.amount END)\n",
    "        SET r.stk_mkv_ratio = (CASE WHEN stk_mkv_ratio <> 'NotChange' THEN toFloat(stk_mkv_ratio) ELSE r.stk_mkv_ratio END)        \n",
    "        SET r.stk_float_ratio = (CASE WHEN stk_float_ratio <> 'NotChange' THEN toFloat(stk_float_ratio) ELSE r.stk_float_ratio END)        \n",
    "    RETURN a,b,r\n",
    "    \",\n",
    "    {batchSize:500, parallel:false})\n",
    "    // 取消并行\n",
    "    \"\"\""
   ]
  },
  {
   "cell_type": "code",
   "execution_count": 123,
   "metadata": {},
   "outputs": [],
   "source": [
    "result = graph.run(query_rel_fund_listed_company_portfolio)"
   ]
  },
  {
   "cell_type": "code",
   "execution_count": 124,
   "metadata": {
    "scrolled": false
   },
   "outputs": [
    {
     "name": "stdout",
     "output_type": "stream",
     "text": [
      "<Record batches=110 total=54559 timeTaken=9 committedOperations=54559 failedOperations=0 failedBatches=0 retries=0 errorMessages={} batch={'total': 110, 'committed': 110, 'failed': 0, 'errors': {}} operations={'total': 54559, 'committed': 54559, 'failed': 0, 'errors': {}} wasTerminated=False>\n"
     ]
    }
   ],
   "source": [
    "check_result(result)"
   ]
  },
  {
   "cell_type": "code",
   "execution_count": null,
   "metadata": {},
   "outputs": [],
   "source": []
  },
  {
   "cell_type": "code",
   "execution_count": null,
   "metadata": {},
   "outputs": [],
   "source": []
  },
  {
   "cell_type": "code",
   "execution_count": null,
   "metadata": {},
   "outputs": [],
   "source": []
  },
  {
   "cell_type": "markdown",
   "metadata": {},
   "source": [
    "### 更新结果检查"
   ]
  },
  {
   "cell_type": "markdown",
   "metadata": {},
   "source": [
    "针对下面两条记录会在更新前后做对比\n",
    "\n",
    "|fund|fullname|ann_date|end_date|mkv|amount|stk_mkv_ratio|stk_float_ratio|type|\n",
    "|--|--|--|--|--|--|--|--|--|\n",
    "|000001|南极电商股份有限公司|20200121|20191231|149832015.87|NotChange|4.31|NotChange|IN_PORTFOLIO|\n",
    "|000001|保利联合化工控股集团股份有限公司|20130328|20121231|8927779.35|363657.0|0.15|0.21|IN_PORTFOLIO|"
   ]
  },
  {
   "cell_type": "markdown",
   "metadata": {},
   "source": [
    "#### 更新关系"
   ]
  },
  {
   "cell_type": "markdown",
   "metadata": {},
   "source": [
    "对于000001（华夏成长基金）持仓 南极电商股份有限公司 的信息。在 20200121 有更新。分别对 持有股票市值（mkv）和 占股票市值比 （stk_mkv_ratio）发生变化。"
   ]
  },
  {
   "cell_type": "markdown",
   "metadata": {},
   "source": [
    "![](../pictures/update_fund_combine1.png)"
   ]
  },
  {
   "cell_type": "markdown",
   "metadata": {},
   "source": [
    "#### 新增关系"
   ]
  },
  {
   "cell_type": "markdown",
   "metadata": {},
   "source": [
    "对于000001（华夏成长基金）持仓 保利联合化工控股集团股份有限公司 的信息。"
   ]
  },
  {
   "cell_type": "markdown",
   "metadata": {},
   "source": [
    "![](../pictures/update_fund_combine2.png)"
   ]
  },
  {
   "cell_type": "markdown",
   "metadata": {},
   "source": [
    "通过前后对比，可以发现，成功完成了图谱数据的更新。\n",
    "\n",
    "在实际工作时，可以结合具体的业务需要调整更新频次，每天/每周/每月。"
   ]
  },
  {
   "cell_type": "code",
   "execution_count": null,
   "metadata": {},
   "outputs": [],
   "source": []
  }
 ],
 "metadata": {
  "kernelspec": {
   "display_name": "Python 3",
   "language": "python",
   "name": "python3"
  },
  "language_info": {
   "codemirror_mode": {
    "name": "ipython",
    "version": 3
   },
   "file_extension": ".py",
   "mimetype": "text/x-python",
   "name": "python",
   "nbconvert_exporter": "python",
   "pygments_lexer": "ipython3",
   "version": "3.6.8"
  },
  "toc": {
   "nav_menu": {},
   "number_sections": true,
   "sideBar": true,
   "skip_h1_title": false,
   "toc_cell": false,
   "toc_position": {},
   "toc_section_display": "block",
   "toc_window_display": false
  }
 },
 "nbformat": 4,
 "nbformat_minor": 1
}
